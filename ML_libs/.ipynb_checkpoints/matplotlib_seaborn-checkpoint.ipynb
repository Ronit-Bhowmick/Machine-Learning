{
 "cells": [
  {
   "cell_type": "markdown",
   "id": "53dd0f8f",
   "metadata": {},
   "source": [
    "# Data Visualization in Python with Matplotlib and Seaborn\n",
    "\n",
    "This notebook introduces data visualization using **Matplotlib** and **Seaborn**.\n",
    "\n",
    "## Table of Contents\n",
    "1. Part 1: Introduction to Data Visualization\n",
    "   - Why data visualization is important\n",
    "   - Key differences between Matplotlib and Seaborn\n",
    "2. Part 2: Matplotlib Basics\n",
    "   - Installing and importing matplotlib.pyplot\n",
    "   - Simple line plot\n",
    "   - Customizing plots: labels, titles, legends, colors, styles\n",
    "   - Scatter plot\n",
    "   - Bar chart\n",
    "   - Histogram\n",
    "   - Pie chart\n",
    "   - Subplots\n",
    "   - Saving plots to files\n",
    "3. Part 3: Seaborn Essentials\n",
    "   - Installing and importing Seaborn\n",
    "   - Loading built-in datasets\n",
    "   - Bar plot\n",
    "   - Count plot\n",
    "   - Box plot\n",
    "   - Violin plot\n",
    "   - Histogram and KDE plot\n",
    "   - Scatter plot\n",
    "   - Pair plot\n",
    "   - Heatmap\n",
    "   - Customizing Seaborn plots\n",
    "4. Part 4: Summary and Practice\n",
    "   - Recap of visualization types\n",
    "   - Practice exercises\n",
    "---"
   ]
  },
  {
   "cell_type": "markdown",
   "id": "2dd24e89",
   "metadata": {},
   "source": [
    "# Part 1: Introduction to Data Visualization\n",
    "## Why data visualization is important\n",
    "- Helps us **understand data patterns and trends**.\n",
    "- Makes data analysis more **intuitive**.\n",
    "- Useful for **explaining results** to others."
   ]
  },
  {
   "cell_type": "markdown",
   "id": "16ac6a4f",
   "metadata": {},
   "source": [
    "## Key differences between Matplotlib and Seaborn\n",
    "- **Matplotlib**: Low-level, very flexible, requires more code.\n",
    "- **Seaborn**: Built on top of Matplotlib, provides **prettier default styles** and simpler syntax for common statistical plots."
   ]
  },
  {
   "cell_type": "markdown",
   "id": "1ff0864f",
   "metadata": {},
   "source": [
    "# Part 2: Matplotlib Basics\n",
    "## Installing and importing matplotlib.pyplot"
   ]
  },
  {
   "cell_type": "code",
   "execution_count": null,
   "id": "21cf995e",
   "metadata": {},
   "outputs": [],
   "source": [
    "# Import matplotlib\n",
    "import matplotlib.pyplot as plt\n",
    "\n",
    "# Enable inline plotting in Jupyter\n",
    "%matplotlib inline"
   ]
  },
  {
   "cell_type": "markdown",
   "id": "221a8c50",
   "metadata": {},
   "source": [
    "## Simple Line Plot"
   ]
  },
  {
   "cell_type": "code",
   "execution_count": null,
   "id": "4c50d238",
   "metadata": {},
   "outputs": [],
   "source": [
    "# Create a simple line plot\n",
    "x = [1, 2, 3, 4, 5]\n",
    "y = [2, 4, 6, 8, 10]\n",
    "\n",
    "plt.plot(x, y)\n",
    "plt.xlabel(\"X-axis\")\n",
    "plt.ylabel(\"Y-axis\")\n",
    "plt.title(\"Simple Line Plot\")\n",
    "plt.show()"
   ]
  },
  {
   "cell_type": "markdown",
   "id": "0a59181d",
   "metadata": {},
   "source": [
    "## Customizing Plots: labels, titles, legends, colors, styles"
   ]
  },
  {
   "cell_type": "code",
   "execution_count": null,
   "id": "1c833094",
   "metadata": {},
   "outputs": [],
   "source": [
    "# Customize plot with colors, labels, legends, and grid\n",
    "x = [1, 2, 3, 4, 5]\n",
    "y1 = [1, 4, 9, 16, 25]\n",
    "y2 = [2, 4, 6, 8, 10]\n",
    "\n",
    "plt.plot(x, y1, label=\"y = x^2\", color=\"red\", linestyle=\"--\")\n",
    "plt.plot(x, y2, label=\"y = 2x\", color=\"blue\", marker=\"o\")\n",
    "plt.xlabel(\"X-axis\")\n",
    "plt.ylabel(\"Y-axis\")\n",
    "plt.title(\"Customized Plot\")\n",
    "plt.legend()\n",
    "plt.grid(True)\n",
    "plt.show()"
   ]
  },
  {
   "cell_type": "markdown",
   "id": "f7baa8a7",
   "metadata": {},
   "source": [
    "## Scatter Plot"
   ]
  },
  {
   "cell_type": "code",
   "execution_count": null,
   "id": "1a38bea8",
   "metadata": {},
   "outputs": [],
   "source": [
    "# Scatter plot example\n",
    "x = [5, 7, 8, 7, 2, 17, 2, 9]\n",
    "y = [99, 86, 87, 88, 100, 86, 103, 87]\n",
    "\n",
    "plt.scatter(x, y, color=\"green\")\n",
    "plt.title(\"Scatter Plot Example\")\n",
    "plt.xlabel(\"X Values\")\n",
    "plt.ylabel(\"Y Values\")\n",
    "plt.show()"
   ]
  },
  {
   "cell_type": "markdown",
   "id": "1d55e43c",
   "metadata": {},
   "source": [
    "## Bar Chart"
   ]
  },
  {
   "cell_type": "code",
   "execution_count": null,
   "id": "9244876f",
   "metadata": {},
   "outputs": [],
   "source": [
    "# Bar chart example\n",
    "categories = [\"A\", \"B\", \"C\", \"D\"]\n",
    "values = [3, 7, 5, 9]\n",
    "\n",
    "plt.bar(categories, values, color=\"orange\")\n",
    "plt.title(\"Bar Chart Example\")\n",
    "plt.show()"
   ]
  },
  {
   "cell_type": "markdown",
   "id": "58eabb49",
   "metadata": {},
   "source": [
    "## Histogram"
   ]
  },
  {
   "cell_type": "code",
   "execution_count": null,
   "id": "37454a6b",
   "metadata": {},
   "outputs": [],
   "source": [
    "# Histogram example\n",
    "data = [7,8,5,6,6,7,9,8,6,5,7,8,6,9,9]\n",
    "\n",
    "plt.hist(data, bins=5, color=\"purple\", edgecolor=\"black\")\n",
    "plt.title(\"Histogram Example\")\n",
    "plt.show()"
   ]
  },
  {
   "cell_type": "markdown",
   "id": "f5ef22ba",
   "metadata": {},
   "source": [
    "## Pie Chart"
   ]
  },
  {
   "cell_type": "code",
   "execution_count": null,
   "id": "e1b8fced",
   "metadata": {},
   "outputs": [],
   "source": [
    "# Pie chart example\n",
    "sizes = [20, 30, 25, 25]\n",
    "labels = [\"Apples\", \"Bananas\", \"Cherries\", \"Dates\"]\n",
    "\n",
    "plt.pie(sizes, labels=labels, autopct=\"%1.1f%%\")\n",
    "plt.title(\"Pie Chart Example\")\n",
    "plt.show()"
   ]
  },
  {
   "cell_type": "markdown",
   "id": "13056089",
   "metadata": {},
   "source": [
    "## Subplots"
   ]
  },
  {
   "cell_type": "code",
   "execution_count": null,
   "id": "8e718a95",
   "metadata": {},
   "outputs": [],
   "source": [
    "# Subplots example\n",
    "x = [1, 2, 3, 4, 5]\n",
    "y1 = [1, 4, 9, 16, 25]\n",
    "y2 = [2, 4, 6, 8, 10]\n",
    "\n",
    "fig, axes = plt.subplots(1, 2, figsize=(10,4))\n",
    "axes[0].plot(x, y1, color=\"red\")\n",
    "axes[0].set_title(\"y = x^2\")\n",
    "\n",
    "axes[1].plot(x, y2, color=\"blue\")\n",
    "axes[1].set_title(\"y = 2x\")\n",
    "\n",
    "plt.show()"
   ]
  },
  {
   "cell_type": "markdown",
   "id": "1908ab30",
   "metadata": {},
   "source": [
    "## Saving Plots to Files"
   ]
  },
  {
   "cell_type": "code",
   "execution_count": null,
   "id": "be4286fd",
   "metadata": {},
   "outputs": [],
   "source": [
    "# Save a plot as PNG\n",
    "plt.plot([1,2,3], [4,5,6])\n",
    "plt.title(\"Saved Plot Example\")\n",
    "plt.savefig(\"saved_plot.png\")\n",
    "plt.show()"
   ]
  },
  {
   "cell_type": "markdown",
   "id": "dfcc2223",
   "metadata": {},
   "source": [
    "# Part 3: Seaborn Essentials\n",
    "## Installing and importing seaborn"
   ]
  },
  {
   "cell_type": "code",
   "execution_count": null,
   "id": "5f77874d",
   "metadata": {},
   "outputs": [],
   "source": [
    "# Import seaborn\n",
    "import seaborn as sns"
   ]
  },
  {
   "cell_type": "markdown",
   "id": "474dd8a6",
   "metadata": {},
   "source": [
    "## Loading Built-in Datasets"
   ]
  },
  {
   "cell_type": "code",
   "execution_count": null,
   "id": "1a1f126f",
   "metadata": {},
   "outputs": [],
   "source": [
    "# Load a built-in dataset\n",
    "tips = sns.load_dataset(\"tips\")\n",
    "tips.head()"
   ]
  },
  {
   "cell_type": "markdown",
   "id": "ed731c31",
   "metadata": {},
   "source": [
    "## Bar Plot"
   ]
  },
  {
   "cell_type": "code",
   "execution_count": null,
   "id": "2c20536d",
   "metadata": {},
   "outputs": [],
   "source": [
    "# Bar plot example\n",
    "sns.barplot(x=\"day\", y=\"total_bill\", data=tips)\n",
    "plt.title(\"Average Bill by Day\")\n",
    "plt.show()"
   ]
  },
  {
   "cell_type": "markdown",
   "id": "ae85333b",
   "metadata": {},
   "source": [
    "## Count Plot"
   ]
  },
  {
   "cell_type": "code",
   "execution_count": null,
   "id": "46c55e0e",
   "metadata": {},
   "outputs": [],
   "source": [
    "# Count plot example\n",
    "sns.countplot(x=\"day\", data=tips)\n",
    "plt.title(\"Count of Records per Day\")\n",
    "plt.show()"
   ]
  },
  {
   "cell_type": "markdown",
   "id": "2cc59a76",
   "metadata": {},
   "source": [
    "## Box Plot"
   ]
  },
  {
   "cell_type": "code",
   "execution_count": null,
   "id": "2fd04adb",
   "metadata": {},
   "outputs": [],
   "source": [
    "# Box plot example\n",
    "sns.boxplot(x=\"day\", y=\"total_bill\", data=tips)\n",
    "plt.title(\"Boxplot of Total Bill by Day\")\n",
    "plt.show()"
   ]
  },
  {
   "cell_type": "markdown",
   "id": "12d3d0ae",
   "metadata": {},
   "source": [
    "## Violin Plot"
   ]
  },
  {
   "cell_type": "code",
   "execution_count": null,
   "id": "3c3084c2",
   "metadata": {},
   "outputs": [],
   "source": [
    "# Violin plot example\n",
    "sns.violinplot(x=\"day\", y=\"total_bill\", data=tips)\n",
    "plt.title(\"Violin Plot of Total Bill by Day\")\n",
    "plt.show()"
   ]
  },
  {
   "cell_type": "markdown",
   "id": "809d4753",
   "metadata": {},
   "source": [
    "## Histogram and KDE Plot"
   ]
  },
  {
   "cell_type": "code",
   "execution_count": null,
   "id": "48d46122",
   "metadata": {},
   "outputs": [],
   "source": [
    "# Histogram and KDE plot example\n",
    "sns.histplot(tips[\"total_bill\"], kde=True, bins=20)\n",
    "plt.title(\"Histogram + KDE of Total Bill\")\n",
    "plt.show()"
   ]
  },
  {
   "cell_type": "markdown",
   "id": "ff9525e5",
   "metadata": {},
   "source": [
    "## Scatter Plot"
   ]
  },
  {
   "cell_type": "code",
   "execution_count": null,
   "id": "54481b0e",
   "metadata": {},
   "outputs": [],
   "source": [
    "# Scatter plot example\n",
    "sns.scatterplot(x=\"total_bill\", y=\"tip\", hue=\"time\", data=tips)\n",
    "plt.title(\"Scatter Plot of Bill vs Tip\")\n",
    "plt.show()"
   ]
  },
  {
   "cell_type": "markdown",
   "id": "876dae22",
   "metadata": {},
   "source": [
    "## Pair Plot"
   ]
  },
  {
   "cell_type": "code",
   "execution_count": null,
   "id": "93d16f14",
   "metadata": {},
   "outputs": [],
   "source": [
    "# Pair plot example\n",
    "sns.pairplot(tips, hue=\"sex\")\n",
    "plt.show()"
   ]
  },
  {
   "cell_type": "markdown",
   "id": "c6095248",
   "metadata": {},
   "source": [
    "## Heatmap"
   ]
  },
  {
   "cell_type": "code",
   "execution_count": null,
   "id": "78ec46e9",
   "metadata": {},
   "outputs": [],
   "source": [
    "# Heatmap example with correlation matrix\n",
    "corr = tips.corr(numeric_only=True)\n",
    "sns.heatmap(corr, annot=True, cmap=\"coolwarm\")\n",
    "plt.title(\"Correlation Heatmap\")\n",
    "plt.show()"
   ]
  },
  {
   "cell_type": "markdown",
   "id": "04510485",
   "metadata": {},
   "source": [
    "## Customizing Seaborn Styles and Palettes"
   ]
  },
  {
   "cell_type": "code",
   "execution_count": null,
   "id": "def88947",
   "metadata": {},
   "outputs": [],
   "source": [
    "# Customize Seaborn plots\n",
    "sns.set_theme(style=\"darkgrid\", palette=\"muted\")\n",
    "sns.scatterplot(x=\"total_bill\", y=\"tip\", data=tips)\n",
    "plt.title(\"Scatter Plot with Custom Style\")\n",
    "plt.show()"
   ]
  },
  {
   "cell_type": "markdown",
   "id": "65e9b147",
   "metadata": {},
   "source": [
    "# Part 4: Summary and Practice\n",
    "## Summary\n",
    "- **Matplotlib**: Low-level, flexible, for fine control.\n",
    "- **Seaborn**: High-level, beautiful defaults, great for quick insights.\n",
    "- Visualization types covered: line, bar, scatter, histogram, pie, box, violin, heatmap, pair plot.\n",
    "\n",
    "## Practice Exercises\n",
    "1. Create a **KDE plot** of a numeric column using any Seaborn dataset.\n",
    "2. Create a **bar plot** showing the average value of a numeric column grouped by a categorical column.\n",
    "3. Load the `penguins` dataset and create a **scatter plot** of flipper length vs body mass."
   ]
  }
 ],
 "metadata": {
  "kernelspec": {
   "display_name": "Python 3 (ipykernel)",
   "language": "python",
   "name": "python3"
  },
  "language_info": {
   "codemirror_mode": {
    "name": "ipython",
    "version": 3
   },
   "file_extension": ".py",
   "mimetype": "text/x-python",
   "name": "python",
   "nbconvert_exporter": "python",
   "pygments_lexer": "ipython3",
   "version": "3.13.5"
  }
 },
 "nbformat": 4,
 "nbformat_minor": 5
}
