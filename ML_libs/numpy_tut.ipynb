{
 "cells": [
  {
   "cell_type": "markdown",
   "id": "b8de681c",
   "metadata": {},
   "source": [
    "# NumPy Tutorial - Beginner Friendly\n",
    "\n",
    "This notebook introduces the **NumPy** library in Python, which is widely used for numerical computing and data manipulation.\n",
    "\n",
    "## Table of Contents\n",
    "1. [Introduction to NumPy](#intro)\n",
    "2. [Why use NumPy vs Python Lists](#vs-lists)\n",
    "3. [Installing and Importing NumPy](#install)\n",
    "4. [Creating NumPy Arrays](#arrays)\n",
    "    - 1D Arrays\n",
    "    - 2D Arrays\n",
    "    - 3D Arrays\n",
    "5. [Array Indexing and Slicing](#indexing)\n",
    "6. [Array Attributes and Methods](#attributes)\n",
    "7. [Mathematical Operations with Arrays](#math)\n",
    "8. [Array Broadcasting](#broadcast)\n",
    "9. [Useful Functions](#functions)\n",
    "10. [Working with Random Numbers](#random)\n",
    "11. [Performance Comparison with Lists](#performance)\n",
    "12. [Real-World Examples & Mini Exercises](#examples)\n",
    "\n",
    "---"
   ]
  },
  {
   "cell_type": "markdown",
   "id": "ab5f896c",
   "metadata": {},
   "source": [
    "## 1. Introduction to NumPy <a name=\"intro\"></a>\n",
    "\n",
    "NumPy (**Numerical Python**) is a powerful library for numerical computations in Python.\n",
    "\n",
    "- Provides support for **multi-dimensional arrays** (ndarrays).\n",
    "- Optimized for **fast mathematical operations**.\n",
    "- Widely used in **data science, machine learning, and scientific computing**."
   ]
  },
  {
   "cell_type": "markdown",
   "id": "8da1d090",
   "metadata": {},
   "source": [
    "## 2. Why use NumPy vs Python Lists <a name=\"vs-lists\"></a>\n",
    "\n",
    "Python lists are flexible, but NumPy arrays are:\n",
    "- **Faster** (implemented in C).\n",
    "- **Memory efficient**.\n",
    "- Support **vectorized operations** (no need for explicit loops)."
   ]
  },
  {
   "cell_type": "code",
   "execution_count": null,
   "id": "d58928ee",
   "metadata": {},
   "outputs": [],
   "source": [
    "# Example: Adding two lists vs NumPy arrays\n",
    "import numpy as np\n",
    "\n",
    "list1 = [1, 2, 3, 4]\n",
    "list2 = [5, 6, 7, 8]\n",
    "result_list = [list1[i] + list2[i] for i in range(len(list1))]\n",
    "print(\"Python List Result:\", result_list)\n",
    "\n",
    "arr1 = np.array([1, 2, 3, 4])\n",
    "arr2 = np.array([5, 6, 7, 8])\n",
    "result_array = arr1 + arr2  # Vectorized operation\n",
    "print(\"NumPy Array Result:\", result_array)"
   ]
  },
  {
   "cell_type": "markdown",
   "id": "846b097a",
   "metadata": {},
   "source": [
    "## 3. Installing and Importing NumPy <a name=\"install\"></a>\n",
    "\n",
    "To install NumPy:\n",
    "```bash\n",
    "pip install numpy\n",
    "```\n",
    "\n",
    "Import it into Python:\n",
    "```python\n",
    "import numpy as np\n",
    "```"
   ]
  },
  {
   "cell_type": "markdown",
   "id": "aa380de4",
   "metadata": {},
   "source": [
    "## 4. Creating NumPy Arrays <a name=\"arrays\"></a>\n",
    "\n",
    "NumPy arrays can be created from Python lists or using built-in functions."
   ]
  },
  {
   "cell_type": "code",
   "execution_count": null,
   "id": "4f1adfdb",
   "metadata": {},
   "outputs": [],
   "source": [
    "# 1D Array\n",
    "arr1d = np.array([1, 2, 3, 4, 5])\n",
    "print(\"1D Array:\", arr1d)\n",
    "\n",
    "# 2D Array\n",
    "arr2d = np.array([[1, 2, 3], [4, 5, 6]])\n",
    "print(\"2D Array:\\n\", arr2d)\n",
    "\n",
    "# 3D Array\n",
    "arr3d = np.array([[[1,2],[3,4]], [[5,6],[7,8]]])\n",
    "print(\"3D Array:\\n\", arr3d)"
   ]
  },
  {
   "cell_type": "markdown",
   "id": "52b8e85e",
   "metadata": {},
   "source": [
    "### Practice Exercise\n",
    "Create a 2D array of shape (3,3) with numbers from 1 to 9."
   ]
  },
  {
   "cell_type": "markdown",
   "id": "64c581b7",
   "metadata": {},
   "source": [
    "## 5. Array Indexing and Slicing <a name=\"indexing\"></a>\n",
    "\n",
    "Access elements just like lists, but works with multiple dimensions."
   ]
  },
  {
   "cell_type": "code",
   "execution_count": null,
   "id": "8c72dfcd",
   "metadata": {},
   "outputs": [],
   "source": [
    "arr = np.array([10, 20, 30, 40, 50])\n",
    "print(arr[0])   # First element\n",
    "print(arr[-1])  # Last element\n",
    "print(arr[1:4]) # Slice\n",
    "\n",
    "matrix = np.array([[1,2,3],[4,5,6],[7,8,9]])\n",
    "print(matrix[1,2])  # Row 1, Col 2 (zero-based)\n",
    "print(matrix[:,1])  # All rows, 2nd column"
   ]
  },
  {
   "cell_type": "markdown",
   "id": "60ba38c6",
   "metadata": {},
   "source": [
    "## 6. Array Attributes and Methods <a name=\"attributes\"></a>\n",
    "\n",
    "NumPy arrays have useful attributes:"
   ]
  },
  {
   "cell_type": "code",
   "execution_count": null,
   "id": "a117b9d2",
   "metadata": {},
   "outputs": [],
   "source": [
    "arr = np.array([[1,2,3],[4,5,6]])\n",
    "print(\"Shape:\", arr.shape)\n",
    "print(\"Dimensions:\", arr.ndim)\n",
    "print(\"Data type:\", arr.dtype)\n",
    "print(\"Size:\", arr.size)\n",
    "print(\"Item size (bytes):\", arr.itemsize)"
   ]
  },
  {
   "cell_type": "markdown",
   "id": "6d866134",
   "metadata": {},
   "source": [
    "## 7. Mathematical Operations with Arrays <a name=\"math\"></a>"
   ]
  },
  {
   "cell_type": "code",
   "execution_count": null,
   "id": "c3e4cdd9",
   "metadata": {},
   "outputs": [],
   "source": [
    "a = np.array([1,2,3])\n",
    "b = np.array([4,5,6])\n",
    "print(\"Addition:\", a + b)\n",
    "print(\"Multiplication:\", a * b)\n",
    "print(\"Dot Product:\", np.dot(a,b))\n",
    "print(\"Mean:\", np.mean(a))\n",
    "print(\"Square Root:\", np.sqrt(a))"
   ]
  },
  {
   "cell_type": "markdown",
   "id": "83969fd3",
   "metadata": {},
   "source": [
    "## 8. Array Broadcasting <a name=\"broadcast\"></a>\n",
    "\n",
    "Broadcasting allows NumPy to perform operations on arrays of different shapes."
   ]
  },
  {
   "cell_type": "code",
   "execution_count": null,
   "id": "0b7ae589",
   "metadata": {},
   "outputs": [],
   "source": [
    "arr = np.array([1,2,3])\n",
    "print(arr + 10)  # Adds 10 to each element\n",
    "\n",
    "matrix = np.array([[1,2,3],[4,5,6]])\n",
    "print(matrix + arr)  # Broadcasts row-wise"
   ]
  },
  {
   "cell_type": "markdown",
   "id": "4a70679f",
   "metadata": {},
   "source": [
    "## 9. Useful Functions <a name=\"functions\"></a>\n",
    "\n",
    "- `np.arange(start, stop, step)`\n",
    "- `np.linspace(start, stop, num)`\n",
    "- `reshape()`\n",
    "- `flatten()`"
   ]
  },
  {
   "cell_type": "code",
   "execution_count": null,
   "id": "2c866e66",
   "metadata": {},
   "outputs": [],
   "source": [
    "print(np.arange(0,10,2))\n",
    "print(np.linspace(0,1,5))\n",
    "\n",
    "arr = np.arange(1,10).reshape(3,3)\n",
    "print(\"Reshaped array:\\n\", arr)\n",
    "print(\"Flattened:\", arr.flatten())"
   ]
  },
  {
   "cell_type": "markdown",
   "id": "253ea04c",
   "metadata": {},
   "source": [
    "## 10. Working with Random Numbers <a name=\"random\"></a>\n",
    "\n",
    "NumPy provides random number generation utilities."
   ]
  },
  {
   "cell_type": "code",
   "execution_count": null,
   "id": "23f1706f",
   "metadata": {},
   "outputs": [],
   "source": [
    "print(np.random.rand(3))       # 1D array of random floats\n",
    "print(np.random.randint(1,10,5)) # Random integers\n",
    "print(np.random.randn(2,3))    # Normal distribution"
   ]
  },
  {
   "cell_type": "markdown",
   "id": "06dbfa16",
   "metadata": {},
   "source": [
    "## 11. Performance Comparison with Lists <a name=\"performance\"></a>"
   ]
  },
  {
   "cell_type": "code",
   "execution_count": null,
   "id": "72242c57",
   "metadata": {},
   "outputs": [],
   "source": [
    "import time\n",
    "\n",
    "size = 1000000\n",
    "list1 = list(range(size))\n",
    "list2 = list(range(size))\n",
    "\n",
    "start = time.time()\n",
    "result = [list1[i] + list2[i] for i in range(size)]\n",
    "print(\"Python list time:\", time.time() - start)\n",
    "\n",
    "arr1 = np.arange(size)\n",
    "arr2 = np.arange(size)\n",
    "start = time.time()\n",
    "result = arr1 + arr2\n",
    "print(\"NumPy array time:\", time.time() - start)"
   ]
  },
  {
   "cell_type": "markdown",
   "id": "7ba2fc27",
   "metadata": {},
   "source": [
    "## 12. Real-World Examples & Mini Exercises <a name=\"examples\"></a>\n",
    "\n",
    "### Example 1: Temperature Conversion\n",
    "Convert an array of Celsius temperatures to Fahrenheit.\n",
    "\n",
    "Formula: `F = C * 9/5 + 32`"
   ]
  },
  {
   "cell_type": "code",
   "execution_count": null,
   "id": "7b6338d9",
   "metadata": {},
   "outputs": [],
   "source": [
    "celsius = np.array([0, 20, 30, 40])\n",
    "fahrenheit = celsius * 9/5 + 32\n",
    "print(\"Fahrenheit:\", fahrenheit)"
   ]
  },
  {
   "cell_type": "markdown",
   "id": "82c5e247",
   "metadata": {},
   "source": [
    "### Example 2: Image Representation (Mini)\n",
    "A grayscale image can be represented as a 2D NumPy array."
   ]
  },
  {
   "cell_type": "code",
   "execution_count": null,
   "id": "d950b925",
   "metadata": {},
   "outputs": [],
   "source": [
    "image = np.random.randint(0, 256, (5,5))\n",
    "print(\"Image Array:\\n\", image)"
   ]
  },
  {
   "cell_type": "markdown",
   "id": "ecea2f1b",
   "metadata": {},
   "source": [
    "### Practice Exercises\n",
    "1. Create a NumPy array of even numbers from 2 to 20.\n",
    "2. Generate a 3x3 identity matrix using NumPy.\n",
    "3. Create a 1D array of 10 random integers between 50 and 100.\n",
    "4. Reshape an array of numbers from 1–12 into a 3x4 matrix.\n",
    "5. Find the maximum, minimum, and mean of an array."
   ]
  }
 ],
 "metadata": {
  "kernelspec": {
   "display_name": "Python 3 (ipykernel)",
   "language": "python",
   "name": "python3"
  },
  "language_info": {
   "codemirror_mode": {
    "name": "ipython",
    "version": 3
   },
   "file_extension": ".py",
   "mimetype": "text/x-python",
   "name": "python",
   "nbconvert_exporter": "python",
   "pygments_lexer": "ipython3",
   "version": "3.13.5"
  }
 },
 "nbformat": 4,
 "nbformat_minor": 5
}
