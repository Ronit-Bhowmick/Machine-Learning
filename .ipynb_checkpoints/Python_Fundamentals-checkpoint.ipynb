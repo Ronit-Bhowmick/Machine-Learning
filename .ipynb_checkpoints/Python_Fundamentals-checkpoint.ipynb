{
 "cells": [
  {
   "cell_type": "code",
   "execution_count": 1,
   "id": "f1bada63-0b5a-4fd6-92fa-c76ede355f6c",
   "metadata": {},
   "outputs": [
    {
     "name": "stdout",
     "output_type": "stream",
     "text": [
      "Hello World\n"
     ]
    }
   ],
   "source": [
    "# print a message\n",
    "print(\"Hello World\")"
   ]
  },
  {
   "cell_type": "code",
   "execution_count": 2,
   "id": "8db3b5d2-724a-4712-9082-89305dae9f21",
   "metadata": {},
   "outputs": [
    {
     "name": "stdout",
     "output_type": "stream",
     "text": [
      "<class 'str'>\n",
      "<class 'int'>\n",
      "<class 'float'>\n",
      "<class 'bool'>\n"
     ]
    }
   ],
   "source": [
    "# Variables\n",
    "name = \"Alice\"\n",
    "age = 25\n",
    "height = 5.6\n",
    "is_student = True\n",
    "\n",
    "# Print types\n",
    "print(type(name))   # <class 'str'>\n",
    "print(type(age))    # <class 'int'>\n",
    "print(type(height)) # <class 'float'>\n",
    "print(type(is_student))  # <class 'bool'>"
   ]
  },
  {
   "cell_type": "code",
   "execution_count": 3,
   "id": "26b9ac53-354a-492b-9684-d6bbcb8df344",
   "metadata": {},
   "outputs": [
    {
     "name": "stdin",
     "output_type": "stream",
     "text": [
      "Enter your name:  Riyan\n"
     ]
    },
    {
     "name": "stdout",
     "output_type": "stream",
     "text": [
      "Hello, Riyan!\n",
      "Hello, Riyan\n"
     ]
    }
   ],
   "source": [
    "name = input(\"Enter your name: \")\n",
    "print(\"Hello, \" + name + \"!\")\n",
    "\n",
    "# using f-string\n",
    "print(f\"Hello, {name}\")"
   ]
  },
  {
   "cell_type": "code",
   "execution_count": 5,
   "id": "3f604796-e4af-4b5a-9070-dda634b23484",
   "metadata": {},
   "outputs": [
    {
     "name": "stdin",
     "output_type": "stream",
     "text": [
      "Enter your age:  19\n",
      "Enter your height:  180.5\n"
     ]
    },
    {
     "name": "stdout",
     "output_type": "stream",
     "text": [
      "Age: 19\n",
      "Height: 180.5\n"
     ]
    }
   ],
   "source": [
    "age = int(input(\"Enter your age: \"))\n",
    "height = float(input(\"Enter your height: \"))\n",
    "\n",
    "\n",
    "print(\"Age:\", age)\n",
    "print(\"Height:\", height)"
   ]
  },
  {
   "cell_type": "code",
   "execution_count": 9,
   "id": "25b11689-17a7-40d6-982c-d34e1f4d7144",
   "metadata": {},
   "outputs": [
    {
     "name": "stdout",
     "output_type": "stream",
     "text": [
      "13 7 30 3.3333333333333335 1 1000 3\n"
     ]
    }
   ],
   "source": [
    "# Arithmetic operator\n",
    "a = 10\n",
    "b = 3\n",
    "print(a + b, a - b, a * b, a / b, a % b, a ** b, a // b)"
   ]
  },
  {
   "cell_type": "code",
   "execution_count": 7,
   "id": "d08edfb1-fc8f-4b39-90f3-67bff516bfa4",
   "metadata": {},
   "outputs": [
    {
     "name": "stdout",
     "output_type": "stream",
     "text": [
      "False True True False True False\n"
     ]
    }
   ],
   "source": [
    "# Comparison operator\n",
    "print(a == b, a != b, a > b, a < b, a >= b, a <= b)"
   ]
  },
  {
   "cell_type": "code",
   "execution_count": 8,
   "id": "70c05571-d02b-4757-b864-af6f085e035f",
   "metadata": {},
   "outputs": [
    {
     "name": "stdout",
     "output_type": "stream",
     "text": [
      "True\n",
      "True\n"
     ]
    }
   ],
   "source": [
    "# Logical operator\n",
    "print(a > 5 and b < 5)\n",
    "print(not(a < 5))"
   ]
  },
  {
   "cell_type": "code",
   "execution_count": 12,
   "id": "6acef71d-a3c6-4e81-8256-c18d3f73998d",
   "metadata": {},
   "outputs": [
    {
     "name": "stdin",
     "output_type": "stream",
     "text": [
      "Enter your age:  15\n"
     ]
    },
    {
     "name": "stdout",
     "output_type": "stream",
     "text": [
      "You are a teenager.\n"
     ]
    }
   ],
   "source": [
    "age = int(input(\"Enter your age: \"))\n",
    "if age >= 18:\n",
    "    print(\"You are an adult.\")\n",
    "elif age > 13:\n",
    "    print(\"You are a teenager.\")\n",
    "else:\n",
    "    print(\"You are a child.\")"
   ]
  },
  {
   "cell_type": "code",
   "execution_count": 14,
   "id": "d34356e2-3891-43ec-8335-4f44ce803ce2",
   "metadata": {},
   "outputs": [
    {
     "name": "stdout",
     "output_type": "stream",
     "text": [
      "Count is: 0\n",
      "Count is: 1\n",
      "Count is: 2\n",
      "Count is: 3\n",
      "Count is: 4\n"
     ]
    }
   ],
   "source": [
    "# While Loop\n",
    "count = 0\n",
    "while count < 5:\n",
    "    print(\"Count is:\", count)\n",
    "    count += 1"
   ]
  },
  {
   "cell_type": "code",
   "execution_count": 15,
   "id": "688b24f3-7678-4343-b194-a7e7a85e2ebc",
   "metadata": {},
   "outputs": [
    {
     "name": "stdout",
     "output_type": "stream",
     "text": [
      "i = 0\n",
      "i = 1\n",
      "i = 2\n",
      "i = 3\n",
      "i = 4\n"
     ]
    }
   ],
   "source": [
    "# For Loop\n",
    "for i in range(5):\n",
    "    print(\"i =\", i)"
   ]
  },
  {
   "cell_type": "code",
   "execution_count": 16,
   "id": "d91bb3c3-908e-433f-956a-eb345e42615a",
   "metadata": {},
   "outputs": [
    {
     "name": "stdout",
     "output_type": "stream",
     "text": [
      "Hello, Alice\n"
     ]
    }
   ],
   "source": [
    "def greet(name):\n",
    "    print(\"Hello,\", name)\n",
    "\n",
    "greet(\"Alice\")"
   ]
  },
  {
   "cell_type": "code",
   "execution_count": 17,
   "id": "1c4b6365-be5e-44ea-a2c8-f4d46789883b",
   "metadata": {},
   "outputs": [
    {
     "name": "stdout",
     "output_type": "stream",
     "text": [
      "8\n"
     ]
    }
   ],
   "source": [
    "# Return values\n",
    "def add(x, y):\n",
    "    return x + y\n",
    "\n",
    "print(add(5, 3))"
   ]
  },
  {
   "cell_type": "code",
   "execution_count": 18,
   "id": "cf17963a-9bd7-46da-a809-db89b1d54939",
   "metadata": {},
   "outputs": [
    {
     "name": "stdout",
     "output_type": "stream",
     "text": [
      "hello, world!\n",
      "HELLO, WORLD!\n",
      "Hello, Python!\n",
      "Hello\n"
     ]
    }
   ],
   "source": [
    "# string manipulation\n",
    "s = \"Hello, World!\"\n",
    "\n",
    "print(s.lower())\n",
    "print(s.upper())\n",
    "print(s.replace(\"World\", \"Python\"))\n",
    "print(s[0:5])  # Slicing\n"
   ]
  },
  {
   "cell_type": "code",
   "execution_count": 19,
   "id": "c19706d4-9424-4b53-a146-e6800eae7084",
   "metadata": {},
   "outputs": [
    {
     "name": "stdin",
     "output_type": "stream",
     "text": [
      "Enter a number:  0\n"
     ]
    },
    {
     "name": "stdout",
     "output_type": "stream",
     "text": [
      "Cannot divide by zero.\n"
     ]
    }
   ],
   "source": [
    "try:\n",
    "    x = int(input(\"Enter a number: \"))\n",
    "    print(10 / x)\n",
    "except ZeroDivisionError:\n",
    "    print(\"Cannot divide by zero.\")\n",
    "except ValueError:\n",
    "    print(\"Invalid input.\")"
   ]
  },
  {
   "cell_type": "code",
   "execution_count": 22,
   "id": "0e1f6d2d-c87c-4f00-ad28-de398cf970ee",
   "metadata": {},
   "outputs": [
    {
     "name": "stdin",
     "output_type": "stream",
     "text": [
      "Enter you age:  abcd\n"
     ]
    },
    {
     "name": "stdout",
     "output_type": "stream",
     "text": [
      "invalid literal for int() with base 10: 'abcd'\n"
     ]
    }
   ],
   "source": [
    "try:\n",
    "    age = int(input(\"Enter you age: \"))\n",
    "    print(age)\n",
    "except Exception as e:\n",
    "    print(e)"
   ]
  },
  {
   "cell_type": "code",
   "execution_count": null,
   "id": "39880fa8-33e0-4ace-86bc-168a71b7126d",
   "metadata": {},
   "outputs": [],
   "source": [
    "# lambda functions\n",
    "add = lambda x, y: x + y\n",
    "print(add(5, 3))"
   ]
  }
 ],
 "metadata": {
  "kernelspec": {
   "display_name": "Python 3 (ipykernel)",
   "language": "python",
   "name": "python3"
  },
  "language_info": {
   "codemirror_mode": {
    "name": "ipython",
    "version": 3
   },
   "file_extension": ".py",
   "mimetype": "text/x-python",
   "name": "python",
   "nbconvert_exporter": "python",
   "pygments_lexer": "ipython3",
   "version": "3.13.5"
  }
 },
 "nbformat": 4,
 "nbformat_minor": 5
}
