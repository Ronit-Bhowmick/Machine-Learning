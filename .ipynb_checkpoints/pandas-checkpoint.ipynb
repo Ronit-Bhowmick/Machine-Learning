{
 "cells": [
  {
   "cell_type": "markdown",
   "metadata": {},
   "source": [
    "# 📊 Beginner-Friendly Guide to Pandas\n",
    "\n",
    "This notebook introduces **Pandas**, one of the most powerful libraries in Python for data analysis. We'll cover the basics of Pandas and then practice Exploratory Data Analysis (EDA) using built-in datasets from Seaborn.\n",
    "\n",
    "## 📑 Table of Contents\n",
    "\n",
    "- **Part 1: Introduction to Pandas**\n",
    "  - What is Pandas and why use it?\n",
    "  - Installing and importing Pandas\n",
    "  - Core data structures: Series and DataFrame\n",
    "  - Creating Series and DataFrames\n",
    "  - Reading and writing CSV files\n",
    "  - Basic DataFrame operations\n",
    "\n",
    "- **Part 2: Exploratory Data Analysis (EDA) with Pandas**\n",
    "  - Loading datasets\n",
    "  - Inspecting data\n",
    "  - Handling missing data\n",
    "  - Value counts and unique values\n",
    "  - Grouping and aggregation\n",
    "  - Creating new columns\n",
    "  - Encoding categorical variables\n",
    "\n",
    "- **Part 3: Visual EDA (with Pandas + Seaborn)**\n",
    "  - Histogram\n",
    "  - Bar plot\n",
    "  - Box plot\n",
    "  - Correlation heatmap\n",
    "  - Line plot\n",
    "\n",
    "- **Part 4: Summary and Practice**\n",
    "  - Recap\n",
    "  - Practice exercises\n"
   ]
  },
  {
   "cell_type": "markdown",
   "metadata": {},
   "source": [
    "# Part 1: Introduction to Pandas\n",
    "\n",
    "## What is Pandas and why use it?\n",
    "\n",
    "- **Pandas** is a Python library for data analysis and manipulation.\n",
    "- It provides two main data structures: **Series** (1D) and **DataFrame** (2D).\n",
    "- Makes it easy to clean, analyze, and visualize data.\n",
    "- Works well with NumPy and Matplotlib/Seaborn."
   ]
  },
  {
   "cell_type": "markdown",
   "metadata": {},
   "source": [
    "## Installing and Importing Pandas"
   ]
  },
  {
   "cell_type": "code",
   "execution_count": 1,
   "metadata": {},
   "outputs": [],
   "source": [
    "# If not installed: !pip install pandas seaborn\n",
    "import pandas as pd\n",
    "import seaborn as sns\n",
    "import numpy as np"
   ]
  },
  {
   "cell_type": "markdown",
   "metadata": {},
   "source": [
    "## Core Data Structures: Series and DataFrame"
   ]
  },
  {
   "cell_type": "code",
   "execution_count": 2,
   "metadata": {},
   "outputs": [],
   "source": [
    "# A Series is like a 1D labeled array\n",
    "s = pd.Series([10, 20, 30, 40], name=\"Numbers\")\n",
    "print(s)\n",
    "\n",
    "# A DataFrame is like a 2D table\n",
    "data = {\n",
    "    \"Name\": [\"Alice\", \"Bob\", \"Charlie\"],\n",
    "    \"Age\": [25, 30, 35],\n",
    "    \"City\": [\"New York\", \"Paris\", \"London\"]\n",
    "}\n",
    "df = pd.DataFrame(data)\n",
    "print(df)"
   ]
  },
  {
   "cell_type": "markdown",
   "metadata": {},
   "source": [
    "## Creating Series and DataFrames from Lists, Dicts, NumPy Arrays"
   ]
  },
  {
   "cell_type": "code",
   "execution_count": 3,
   "metadata": {},
   "outputs": [],
   "source": [
    "# From list\n",
    "series_from_list = pd.Series([1, 2, 3, 4])\n",
    "print(series_from_list)\n",
    "\n",
    "# From dict\n",
    "df_from_dict = pd.DataFrame({\"A\": [1,2], \"B\": [3,4]})\n",
    "print(df_from_dict)\n",
    "\n",
    "# From NumPy array\n",
    "arr = np.array([[1,2,3],[4,5,6]])\n",
    "df_from_array = pd.DataFrame(arr, columns=[\"X\",\"Y\",\"Z\"])\n",
    "print(df_from_array)"
   ]
  },
  {
   "cell_type": "markdown",
   "metadata": {},
   "source": [
    "## Reading and Writing CSV Files"
   ]
  },
  {
   "cell_type": "code",
   "execution_count": 4,
   "metadata": {},
   "outputs": [],
   "source": [
    "# Example: Writing and reading a CSV file\n",
    "df.to_csv(\"sample.csv\", index=False)\n",
    "read_df = pd.read_csv(\"sample.csv\")\n",
    "print(read_df)"
   ]
  },
  {
   "cell_type": "markdown",
   "metadata": {},
   "source": [
    "## Basic DataFrame Operations"
   ]
  },
  {
   "cell_type": "code",
   "execution_count": 5,
   "metadata": {},
   "outputs": [],
   "source": [
    "# Viewing data\n",
    "print(df.head())  # first 5 rows\n",
    "print(df.tail())  # last 5 rows\n",
    "print(df.info())  # data types\n",
    "print(df.describe())  # summary statistics"
   ]
  },
  {
   "cell_type": "code",
   "execution_count": 6,
   "metadata": {},
   "outputs": [],
   "source": [
    "# Selecting columns and rows\n",
    "print(df[\"Name\"])  # column\n",
    "print(df.loc[0])   # row by label\n",
    "print(df.iloc[1])  # row by index position"
   ]
  },
  {
   "cell_type": "code",
   "execution_count": 7,
   "metadata": {},
   "outputs": [],
   "source": [
    "# Filtering rows\n",
    "print(df[df[\"Age\"] > 25])"
   ]
  },
  {
   "cell_type": "code",
   "execution_count": 8,
   "metadata": {},
   "outputs": [],
   "source": [
    "# Sorting values\n",
    "print(df.sort_values(\"Age\", ascending=False))"
   ]
  },
  {
   "cell_type": "code",
   "execution_count": 9,
   "metadata": {},
   "outputs": [],
   "source": [
    "# Renaming and dropping columns\n",
    "renamed_df = df.rename(columns={\"Name\": \"FullName\"})\n",
    "print(renamed_df)\n",
    "print(df.drop(\"City\", axis=1))"
   ]
  },
  {
   "cell_type": "markdown",
   "metadata": {},
   "source": [
    "# Part 2: Exploratory Data Analysis (EDA) with Pandas\n",
    "\n",
    "Let's use Seaborn's built-in dataset **tips**."
   ]
  },
  {
   "cell_type": "code",
   "execution_count": 10,
   "metadata": {},
   "outputs": [],
   "source": [
    "tips = sns.load_dataset(\"tips\")\n",
    "print(tips.head())"
   ]
  },
  {
   "cell_type": "code",
   "execution_count": 11,
   "metadata": {},
   "outputs": [],
   "source": [
    "# Checking data shape, types, missing values\n",
    "print(tips.shape)\n",
    "print(tips.info())\n",
    "print(tips.isnull().sum())"
   ]
  },
  {
   "cell_type": "code",
   "execution_count": 12,
   "metadata": {},
   "outputs": [],
   "source": [
    "# Handling missing data\n",
    "print(tips.dropna().shape)  # remove missing\n",
    "print(tips.fillna(0).head())  # fill with 0"
   ]
  },
  {
   "cell_type": "code",
   "execution_count": 13,
   "metadata": {},
   "outputs": [],
   "source": [
    "# Value counts and unique values\n",
    "print(tips[\"day\"].value_counts())\n",
    "print(tips[\"smoker\"].unique())"
   ]
  },
  {
   "cell_type": "code",
   "execution_count": 14,
   "metadata": {},
   "outputs": [],
   "source": [
    "# Grouping and aggregation\n",
    "print(tips.groupby(\"day\")[\"tip\"].mean())\n",
    "print(tips.groupby(\"sex\").agg({\"total_bill\": \"mean\", \"tip\": \"max\"}))"
   ]
  },
  {
   "cell_type": "code",
   "execution_count": 15,
   "metadata": {},
   "outputs": [],
   "source": [
    "# Creating new columns\n",
    "tips[\"tip_percent\"] = tips[\"tip\"] / tips[\"total_bill\"] * 100\n",
    "print(tips.head())"
   ]
  },
  {
   "cell_type": "code",
   "execution_count": 16,
   "metadata": {},
   "outputs": [],
   "source": [
    "# Encoding categorical variables\n",
    "encoded = pd.get_dummies(tips[\"sex\"])\n",
    "print(encoded.head())"
   ]
  },
  {
   "cell_type": "markdown",
   "metadata": {},
   "source": [
    "# Part 3: Visual EDA (with Pandas + Seaborn)"
   ]
  },
  {
   "cell_type": "code",
   "execution_count": 17,
   "metadata": {},
   "outputs": [],
   "source": [
    "# Histogram\n",
    "tips[\"total_bill\"].hist()"
   ]
  },
  {
   "cell_type": "code",
   "execution_count": 18,
   "metadata": {},
   "outputs": [],
   "source": [
    "# Bar plot\n",
    "sns.barplot(x=\"day\", y=\"total_bill\", data=tips)"
   ]
  },
  {
   "cell_type": "code",
   "execution_count": 19,
   "metadata": {},
   "outputs": [],
   "source": [
    "# Box plot\n",
    "sns.boxplot(x=\"day\", y=\"total_bill\", data=tips)"
   ]
  },
  {
   "cell_type": "code",
   "execution_count": 20,
   "metadata": {},
   "outputs": [],
   "source": [
    "# Correlation heatmap\n",
    "sns.heatmap(tips.corr(), annot=True, cmap=\"coolwarm\")"
   ]
  },
  {
   "cell_type": "code",
   "execution_count": 21,
   "metadata": {},
   "outputs": [],
   "source": [
    "# Line plot (using flights dataset)\n",
    "flights = sns.load_dataset(\"flights\")\n",
    "sns.lineplot(x=\"year\", y=\"passengers\", data=flights)"
   ]
  },
  {
   "cell_type": "markdown",
   "metadata": {},
   "source": [
    "# Part 4: Summary and Practice\n",
    "\n",
    "## Recap\n",
    "- **Pandas** helps in handling tabular data.\n",
    "- We learned: creating DataFrames, filtering, grouping, missing values.\n",
    "- Used Seaborn datasets for EDA.\n",
    "- Visualized data with Pandas + Seaborn.\n",
    "\n",
    "## Practice Exercises\n",
    "1. Find the average tip for each day of the week.\n",
    "2. Fill missing values in the `flights` dataset with the median.\n",
    "3. Create a new column in `tips` indicating if the total bill is above the median.\n",
    "4. Plot a histogram of `tip_percent` from the `tips` dataset.\n",
    "5. Use `groupby` to find the average passengers per year in the `flights` dataset."
   ]
  }
 ],
 "metadata": {
  "kernelspec": {
   "display_name": "Python 3",
   "language": "python",
   "name": "python3"
  },
  "language_info": {
   "name": "python",
   "version": "3.11"
  }
 },
 "nbformat": 4,
 "nbformat_minor": 5
}
