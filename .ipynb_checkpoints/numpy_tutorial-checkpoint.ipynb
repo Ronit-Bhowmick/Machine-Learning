{
  "cells": [
    {
      "cell_type": "markdown",
      "metadata": {},
      "source": [
        "# NumPy Tutorial - Beginner Friendly\n",
        "\n",
        "This notebook introduces the **NumPy** library in Python, which is widely used for numerical computing and data manipulation.\n",
        "\n",
        "## Table of Contents\n",
        "1. [Introduction to NumPy](#intro)\n",
        "2. [Why use NumPy vs Python Lists](#vs-lists)\n",
        "3. [Installing and Importing NumPy](#install)\n",
        "4. [Creating NumPy Arrays](#arrays)\n",
        "    - 1D Arrays\n",
        "    - 2D Arrays\n",
        "    - 3D Arrays\n",
        "5. [Array Indexing and Slicing](#indexing)\n",
        "6. [Array Attributes and Methods](#attributes)\n",
        "7. [Mathematical Operations with Arrays](#math)\n",
        "8. [Array Broadcasting](#broadcast)\n",
        "9. [Useful Functions](#functions)\n",
        "10. [Working with Random Numbers](#random)\n",
        "11. [Performance Comparison with Lists](#performance)\n",
        "12. [Real-World Examples & Mini Exercises](#examples)\n",
        "\n",
        "---"
      ]
    },
    {
      "cell_type": "markdown",
      "metadata": {},
      "source": [
        "## 1. Introduction to NumPy <a name=\"intro\"></a>\n",
        "\n",
        "NumPy (**Numerical Python**) is a powerful library for numerical computations in Python.\n",
        "\n",
        "- Provides support for **multi-dimensional arrays** (ndarrays).\n",
        "- Optimized for **fast mathematical operations**.\n",
        "- Widely used in **data science, machine learning, and scientific computing**."
      ]
    },
    {
      "cell_type": "markdown",
      "metadata": {},
      "source": [
        "## 2. Why use NumPy vs Python Lists <a name=\"vs-lists\"></a>\n",
        "\n",
        "Python lists are flexible, but NumPy arrays are:\n",
        "- **Faster** (implemented in C).\n",
        "- **Memory efficient**.\n",
        "- Support **vectorized operations** (no need for explicit loops)."
      ]
    },
    {
      "cell_type": "code",
      "metadata": {},
      "source": [
        "# Example: Adding two lists vs NumPy arrays\n",
        "import numpy as np\n",
        "\n",
        "list1 = [1, 2, 3, 4]\n",
        "list2 = [5, 6, 7, 8]\n",
        "result_list = [list1[i] + list2[i] for i in range(len(list1))]\n",
        "print(\"Python List Result:\", result_list)\n",
        "\n",
        "arr1 = np.array([1, 2, 3, 4])\n",
        "arr2 = np.array([5, 6, 7, 8])\n",
        "result_array = arr1 + arr2  # Vectorized operation\n",
        "print(\"NumPy Array Result:\", result_array)"
      ],
      "execution_count": null,
      "outputs": []
    }
  ],
  "metadata": {
    "kernelspec": {
      "display_name": "Python 3",
      "language": "python",
      "name": "python3"
    },
    "language_info": {
      "name": "python",
      "version": "3.11"
    }
  },
  "nbformat": 4,
  "nbformat_minor": 5
}