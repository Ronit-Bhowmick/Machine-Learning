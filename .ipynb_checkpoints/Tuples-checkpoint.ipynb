{
 "cells": [
  {
   "cell_type": "code",
   "execution_count": 1,
   "id": "92a9d3ae-b141-4c43-a999-d111b61cb0f5",
   "metadata": {},
   "outputs": [
    {
     "name": "stdout",
     "output_type": "stream",
     "text": [
      "1\n",
      "Python\n"
     ]
    }
   ],
   "source": [
    "## TUPLE - Creation & Access\n",
    "my_tuple = (1, 2, 3, \"Python\")\n",
    "\n",
    "\n",
    "print(my_tuple[0])\n",
    "print(my_tuple[-1])\n"
   ]
  },
  {
   "cell_type": "code",
   "execution_count": 2,
   "id": "3afe679e-b36a-4b03-9458-5c2c002cd988",
   "metadata": {},
   "outputs": [
    {
     "name": "stdout",
     "output_type": "stream",
     "text": [
      "1\n",
      "2\n"
     ]
    }
   ],
   "source": [
    "## TUPLE - Index, Count\n",
    "my_tuple = (1, 2, 2, 3)\n",
    "print(my_tuple.index(2))\n",
    "print(my_tuple.count(2))\n"
   ]
  },
  {
   "cell_type": "code",
   "execution_count": 9,
   "id": "23970598-a548-459d-b46e-9b8dfc9ad814",
   "metadata": {},
   "outputs": [
    {
     "name": "stdout",
     "output_type": "stream",
     "text": [
      "(1, 2, 3)\n",
      "4\n"
     ]
    }
   ],
   "source": [
    "## TUPLE - Slicing\n",
    "my_tuple = (0, 1, 2, 3, 4)\n",
    "\n",
    "print(my_tuple[1:4])\n",
    "print(my_tuple[-1])"
   ]
  },
  {
   "cell_type": "code",
   "execution_count": 10,
   "id": "a2069c62-0645-4897-97b6-8844aaf5302d",
   "metadata": {},
   "outputs": [
    {
     "name": "stdout",
     "output_type": "stream",
     "text": [
      "[1, 2, 3]\n"
     ]
    }
   ],
   "source": [
    "## TUPLE - Conversion to List\n",
    "my_tuple = (1, 2, 3)\n",
    "my_list = list(my_tuple)\n",
    "print(my_list)\n"
   ]
  }
 ],
 "metadata": {
  "kernelspec": {
   "display_name": "Python 3 (ipykernel)",
   "language": "python",
   "name": "python3"
  },
  "language_info": {
   "codemirror_mode": {
    "name": "ipython",
    "version": 3
   },
   "file_extension": ".py",
   "mimetype": "text/x-python",
   "name": "python",
   "nbconvert_exporter": "python",
   "pygments_lexer": "ipython3",
   "version": "3.13.5"
  }
 },
 "nbformat": 4,
 "nbformat_minor": 5
}
