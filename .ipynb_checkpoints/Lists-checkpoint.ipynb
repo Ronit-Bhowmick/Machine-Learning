{
 "cells": [
  {
   "cell_type": "markdown",
   "id": "4987b02c-6e16-4072-943a-201d134d32a8",
   "metadata": {},
   "source": [
    "### LIST - Creation & Access"
   ]
  },
  {
   "cell_type": "code",
   "execution_count": null,
   "id": "11a35823-4f0f-435e-8884-da0506ffb88c",
   "metadata": {},
   "outputs": [],
   "source": [
    "\n",
    "my_list = [1, 2, 3, \"Python\", 3.14]\n",
    "print(my_list)"
   ]
  },
  {
   "cell_type": "code",
   "execution_count": null,
   "id": "267085f7-eecf-4a07-a8b5-89908eb7e504",
   "metadata": {},
   "outputs": [],
   "source": [
    "print(my_list[0])    # Access first element\n",
    "print(my_list[-1])   # Access last element"
   ]
  },
  {
   "cell_type": "code",
   "execution_count": null,
   "id": "68d0699d-5530-489e-9a60-f3439d22742e",
   "metadata": {},
   "outputs": [],
   "source": [
    "for i, items in enumerate(my_list):\n",
    "    print(i, items)"
   ]
  },
  {
   "cell_type": "markdown",
   "id": "c387c37b-3b5b-400d-bda0-120bda4a7123",
   "metadata": {},
   "source": [
    "### LIST - Append, Extend, Insert"
   ]
  },
  {
   "cell_type": "code",
   "execution_count": null,
   "id": "791eb499-f02c-40f9-87f2-ec60fa85a956",
   "metadata": {},
   "outputs": [],
   "source": [
    "\n",
    "my_list = [1, 2, 3]\n",
    "\n",
    "my_list.append(4)  # Adds single element\n",
    "print(\"List with one element added at the end:\" ,my_list)\n",
    "print(80*\"*\")\n",
    "\n",
    "my_list.extend([5, 6])  # Adds multiple elements\n",
    "print(\"List with multiple elements added at the end:\" ,my_list)\n",
    "print(80*\"*\")\n",
    "\n",
    "my_list.insert(1, 1.5)  # Inserts at index 1\n",
    "print(\"List with element added at a certain index:\" ,my_list)\n"
   ]
  },
  {
   "cell_type": "markdown",
   "id": "2df6ed8b-9195-4124-b9ae-60c772f4d70e",
   "metadata": {},
   "source": [
    "### LIST - Remove, Pop, Clear"
   ]
  },
  {
   "cell_type": "code",
   "execution_count": null,
   "id": "694970b7-c75f-4584-94e9-0ce8b9d5fa55",
   "metadata": {},
   "outputs": [],
   "source": [
    "my_list = [1, 2, 3, 4]\n",
    "\n",
    "my_list.remove(2)  # Removes first occurrence of 2\n",
    "print(my_list)\n",
    "\n",
    "popped = my_list.pop()  # Removes last element\n",
    "print(popped)\n",
    "\n",
    "my_list.clear()  # Empties the list\n",
    "print(my_list)\n"
   ]
  },
  {
   "cell_type": "markdown",
   "id": "c47503fe-0d3b-47dd-ab70-42442a249dc2",
   "metadata": {},
   "source": [
    "### LIST - Index and Slicing"
   ]
  },
  {
   "cell_type": "code",
   "execution_count": null,
   "id": "40e2ceb8-d77e-4b8d-912a-851b51bc092a",
   "metadata": {},
   "outputs": [],
   "source": [
    "\n",
    "my_list = [0, 1, 2, 3, 4, 5]\n",
    "\n",
    "print(my_list.index(2))  # First index of 2\n",
    "\n",
    "print(my_list[1:4])   # Elements from index 1 to 3\n",
    "print(my_list[::-1])  # Reverse list\n"
   ]
  },
  {
   "cell_type": "markdown",
   "id": "7444bcd1-2125-4d75-b3e3-b68eb2b6ca58",
   "metadata": {},
   "source": [
    "### LIST - Sort, Reverse, Count"
   ]
  },
  {
   "cell_type": "code",
   "execution_count": null,
   "id": "57a536d7-2adf-423d-bddf-b94faa97790b",
   "metadata": {},
   "outputs": [],
   "source": [
    "my_list = [3, 1, 4, 2, 2, 2]\n",
    "\n",
    "my_list.sort()  # Ascending\n",
    "print(\"Sorted List:\", my_list)\n",
    "\n",
    "my_list.reverse()  # Reverse order\n",
    "print(\"Reversed List:\" ,my_list)\n",
    "\n",
    "print(my_list.count(2))"
   ]
  },
  {
   "cell_type": "markdown",
   "id": "0e759161-1fcb-4720-931f-681fe2989342",
   "metadata": {},
   "source": [
    "### LIST - Comprehension"
   ]
  },
  {
   "cell_type": "code",
   "execution_count": null,
   "id": "83ee9d0a-a6c3-4e70-86f5-a83997773721",
   "metadata": {},
   "outputs": [],
   "source": [
    "my_list = [1,2,3,4,5,6]\n",
    "\n",
    "squares = [x**2 for x in my_list]\n",
    "print(squares)\n",
    "\n",
    "# conditional list comprehension\n",
    "greater_than_3 = [x for x in my_list if x>3]\n",
    "print(greater_than_3)"
   ]
  },
  {
   "cell_type": "markdown",
   "id": "08d00e34-9f4e-48b3-8a8e-c088a4e2c9ff",
   "metadata": {},
   "source": [
    "### LIST - Copy"
   ]
  },
  {
   "cell_type": "code",
   "execution_count": null,
   "id": "1500e1ca-2085-49e3-b606-acd34e739701",
   "metadata": {},
   "outputs": [],
   "source": [
    "# What happens if we do not copy a list\n",
    "lst1 = [1,2,3,4]\n",
    "\n",
    "lst2 = lst1\n",
    "\n",
    "lst2[0] = 20\n",
    "\n",
    "print(lst1)\n",
    "print(lst2)"
   ]
  },
  {
   "cell_type": "code",
   "execution_count": null,
   "id": "e489dc84-95e6-4439-b484-57c8bb812c7a",
   "metadata": {},
   "outputs": [],
   "source": [
    "# Copying list\n",
    "original = [1, 2, 3]\n",
    "copy_list = original.copy()\n",
    "\n",
    "print(\"Original List:\", original)\n",
    "print(\"Copied List:\", copy_list)"
   ]
  },
  {
   "cell_type": "code",
   "execution_count": null,
   "id": "0c142c85-f8bf-44e5-9a20-a247f5725fdd",
   "metadata": {},
   "outputs": [],
   "source": [
    "copy_list[2] = 10\n",
    "print(\"Original List:\", original)\n",
    "print(\"Copied List:\", copy_list)"
   ]
  },
  {
   "cell_type": "markdown",
   "id": "739b7eaf-2897-469b-bac4-3b1c2cf67dc1",
   "metadata": {},
   "source": [
    "### Practice Problems"
   ]
  },
  {
   "cell_type": "raw",
   "id": "ecc1b1ca-89e6-4559-9cb0-f9a5699c6aa3",
   "metadata": {},
   "source": [
    "1. Given nums = [10,20,30,40,50], print the last element with slicing and without slicing.\n",
    "\n",
    "2. Given fruits = [\"apple\", \"grapes\", cherries\", \"oranges\"], replace cherries with pineapples.\n",
    "\n",
    "3. Create an empty list and append Python, C++ and Java. Then add JavaScript at the 2nd position.\n",
    "\n",
    "4. Given nums = [1, 2, 3, 2, 4, 2, 5], find the number of occurances of 2 in the list.\n",
    "\n",
    "5. Print only the even numbers from the list nums = [1,2,3,4,5,6,7,8,9,10]"
   ]
  }
 ],
 "metadata": {
  "kernelspec": {
   "display_name": "Python 3 (ipykernel)",
   "language": "python",
   "name": "python3"
  },
  "language_info": {
   "codemirror_mode": {
    "name": "ipython",
    "version": 3
   },
   "file_extension": ".py",
   "mimetype": "text/x-python",
   "name": "python",
   "nbconvert_exporter": "python",
   "pygments_lexer": "ipython3",
   "version": "3.13.5"
  }
 },
 "nbformat": 4,
 "nbformat_minor": 5
}
