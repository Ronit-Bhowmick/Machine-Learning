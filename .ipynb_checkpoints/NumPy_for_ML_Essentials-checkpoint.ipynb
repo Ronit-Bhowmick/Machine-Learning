{
 "cells": [
  {
   "cell_type": "markdown",
   "id": "5dfca6bb",
   "metadata": {},
   "source": [
    "# 📚 NumPy for Machine Learning – Essential Functions\n",
    "This notebook demonstrates **important NumPy functions** frequently used in ML projects.\n",
    "\n",
    "We will go through topics step-by-step with explanations and example code:\n",
    "1. Array Creation\n",
    "2. Array Inspection\n",
    "3. Reshaping & Flattening\n",
    "4. Mathematical Operations\n",
    "5. Statistical Operations\n",
    "6. Boolean Indexing & Filtering\n",
    "7. Random Number Generation\n",
    "8. Sorting & Unique Values\n"
   ]
  },
  {
   "cell_type": "code",
   "execution_count": 14,
   "id": "a2976710",
   "metadata": {},
   "outputs": [],
   "source": [
    "import numpy as np\n",
    "# NumPy is the foundation for numerical computation in Python.\n",
    "# It is heavily used in ML for array operations, statistics, and linear algebra."
   ]
  },
  {
   "cell_type": "markdown",
   "id": "9bb6185d",
   "metadata": {},
   "source": [
    "## 1️⃣ Array Creation Functions"
   ]
  },
  {
   "cell_type": "code",
   "execution_count": 15,
   "id": "f372d50c",
   "metadata": {},
   "outputs": [
    {
     "name": "stdout",
     "output_type": "stream",
     "text": [
      "1-d array: \n",
      " [1 2 3 4 5]\n",
      "2-d array: \n",
      " [[1 2 3]\n",
      " [4 5 6]]\n",
      "3-d array: \n",
      " [[[1 2 3]\n",
      "  [4 5 6]\n",
      "  [7 8 9]]]\n"
     ]
    }
   ],
   "source": [
    "# np.array() – Create an array from Python lists/tuples\n",
    "\n",
    "arr = np.array([1, 2, 3, 4, 5])   # 1-D array\n",
    "print(\"1-d array: \\n\", arr)\n",
    "\n",
    "arr_2d = np.array([[1,2,3], \n",
    "                   [4,5,6]])      # 2-d array\n",
    "print(\"2-d array: \\n\",arr_2d)\n",
    "\n",
    "arr_3d = np.array([[[1,2,3],      # 3-d array\n",
    "                   [4,5,6],\n",
    "                    [7,8,9]]])\n",
    "\n",
    "print(\"3-d array: \\n\", arr_3d)"
   ]
  },
  {
   "cell_type": "code",
   "execution_count": 16,
   "id": "bea4abf5-34bf-4c26-9f17-c31a3a371fe8",
   "metadata": {},
   "outputs": [
    {
     "name": "stdout",
     "output_type": "stream",
     "text": [
      "np.zeros():\n",
      " [[0. 0. 0. 0.]\n",
      " [0. 0. 0. 0.]\n",
      " [0. 0. 0. 0.]]\n"
     ]
    }
   ],
   "source": [
    "# np.zeros() – Array of zeros\n",
    "zeros_arr = np.zeros((3, 4))\n",
    "print(zeros_arr)"
   ]
  },
  {
   "cell_type": "code",
   "execution_count": 17,
   "id": "ab775280-18cf-4184-8e4c-d043e835e75c",
   "metadata": {},
   "outputs": [
    {
     "name": "stdout",
     "output_type": "stream",
     "text": [
      "np.ones():\n",
      " [[1 1 1]\n",
      " [1 1 1]]\n"
     ]
    }
   ],
   "source": [
    "# np.ones() – Array of ones\n",
    "ones_arr = np.ones((2, 3), dtype=int)\n",
    "print(ones_arr)"
   ]
  },
  {
   "cell_type": "code",
   "execution_count": 18,
   "id": "c40c3bff-4f1c-4f35-9d7e-a72709545fc9",
   "metadata": {},
   "outputs": [
    {
     "name": "stdout",
     "output_type": "stream",
     "text": [
      "np.arange(): [0 2 4 6 8]\n"
     ]
    }
   ],
   "source": [
    "# np.arange() – Range of values\n",
    "range_arr = np.arange(0, 10, 2)\n",
    "print(range_arr)"
   ]
  },
  {
   "cell_type": "code",
   "execution_count": 19,
   "id": "c6e0a8f1-5904-44a3-a8ad-8859c39185b4",
   "metadata": {},
   "outputs": [
    {
     "name": "stdout",
     "output_type": "stream",
     "text": [
      "np.linspace(): [0.   0.25 0.5  0.75 1.  ]\n"
     ]
    }
   ],
   "source": [
    "# np.linspace() – Evenly spaced numbers\n",
    "linspace_arr = np.linspace(0, 1, 5)\n",
    "print(linspace_arr)"
   ]
  },
  {
   "cell_type": "code",
   "execution_count": 20,
   "id": "92658bd3-1ab9-44e7-bc0b-415ceedf45bb",
   "metadata": {},
   "outputs": [
    {
     "name": "stdout",
     "output_type": "stream",
     "text": [
      "[[1. 0. 0.]\n",
      " [0. 1. 0.]\n",
      " [0. 0. 1.]]\n"
     ]
    }
   ],
   "source": [
    "# np.eye() – Identity matrix\n",
    "eye_arr = np.eye(3)\n",
    "print(eye_arr)"
   ]
  },
  {
   "cell_type": "markdown",
   "id": "26be631a",
   "metadata": {},
   "source": [
    "## 2️⃣ Array Inspection"
   ]
  },
  {
   "cell_type": "code",
   "execution_count": 11,
   "id": "0ab2d0fb",
   "metadata": {},
   "outputs": [
    {
     "name": "stdout",
     "output_type": "stream",
     "text": [
      "Shape: (1, 3, 3)\n",
      "Dimensions: 3\n",
      "Size: 9\n",
      "Data type: int64\n"
     ]
    }
   ],
   "source": [
    "print(\"Shape:\", arr_3d.shape)\n",
    "print(\"Dimensions:\", arr_3d.ndim)\n",
    "print(\"Size:\", arr_3d.size)\n",
    "print(\"Data type:\", arr_3d.dtype)"
   ]
  },
  {
   "cell_type": "markdown",
   "id": "2fcc39c5",
   "metadata": {},
   "source": [
    "## 3️⃣ Reshaping & Flattening"
   ]
  },
  {
   "cell_type": "code",
   "execution_count": null,
   "id": "0ac196ea",
   "metadata": {},
   "outputs": [],
   "source": [
    "# Reshape array\n",
    "reshaped = np.arange(6).reshape(2, 3)\n",
    "print(\"Reshaped array:\\n\", reshaped)\n",
    "\n",
    "# Flatten array\n",
    "flat = reshaped.ravel()\n",
    "print(\"Flattened array:\", flat)"
   ]
  },
  {
   "cell_type": "markdown",
   "id": "8b753061",
   "metadata": {},
   "source": [
    "## 4️⃣ Mathematical Operations"
   ]
  },
  {
   "cell_type": "code",
   "execution_count": null,
   "id": "c11fcfee",
   "metadata": {},
   "outputs": [],
   "source": [
    "a = np.array([1, 2, 3])\n",
    "b = np.array([4, 5, 6])\n",
    "\n",
    "print(\"Addition:\", a + b)\n",
    "print(\"Subtraction:\", a - b)\n",
    "print(\"Multiplication:\", a * b)\n",
    "print(\"Division:\", a / b)\n",
    "\n",
    "# Matrix multiplication\n",
    "mat1 = np.array([[1, 2], [3, 4]])\n",
    "mat2 = np.array([[5, 6], [7, 8]])\n",
    "print(\"Matrix multiplication:\\n\", np.dot(mat1, mat2))"
   ]
  },
  {
   "cell_type": "markdown",
   "id": "813c8123",
   "metadata": {},
   "source": [
    "## 5️⃣ Statistical Operations"
   ]
  },
  {
   "cell_type": "code",
   "execution_count": null,
   "id": "e93cc384",
   "metadata": {},
   "outputs": [],
   "source": [
    "data = np.array([1, 2, 3, 4, 5])\n",
    "print(\"Sum:\", np.sum(data))\n",
    "print(\"Mean:\", np.mean(data))\n",
    "print(\"Std Dev:\", np.std(data))\n",
    "print(\"Variance:\", np.var(data))\n",
    "print(\"Min:\", np.min(data))\n",
    "print(\"Max:\", np.max(data))\n",
    "print(\"Index of Min:\", np.argmin(data))\n",
    "print(\"Index of Max:\", np.argmax(data))"
   ]
  },
  {
   "cell_type": "markdown",
   "id": "1cb2cd9a",
   "metadata": {},
   "source": [
    "## 6️⃣ Boolean Indexing & Filtering"
   ]
  },
  {
   "cell_type": "code",
   "execution_count": null,
   "id": "5577e9c7",
   "metadata": {},
   "outputs": [],
   "source": [
    "mask = data > 3\n",
    "print(\"Mask:\", mask)\n",
    "print(\"Filtered values:\", data[mask])\n",
    "\n",
    "# np.where()\n",
    "result = np.where(data > 3, 1, 0)\n",
    "print(\"np.where() result:\", result)"
   ]
  },
  {
   "cell_type": "markdown",
   "id": "af2ac1a4",
   "metadata": {},
   "source": [
    "## 7️⃣ Random Number Generation"
   ]
  },
  {
   "cell_type": "code",
   "execution_count": null,
   "id": "b6eee88d",
   "metadata": {},
   "outputs": [],
   "source": [
    "print(\"Uniform random [0,1):\\n\", np.random.rand(2, 3))\n",
    "print(\"Normal distribution:\\n\", np.random.randn(2, 3))\n",
    "print(\"Random integers:\\n\", np.random.randint(0, 10, size=(3, 3)))"
   ]
  },
  {
   "cell_type": "markdown",
   "id": "c581fa0c",
   "metadata": {},
   "source": [
    "## 8️⃣ Sorting & Unique Values"
   ]
  },
  {
   "cell_type": "code",
   "execution_count": null,
   "id": "af4212ce",
   "metadata": {},
   "outputs": [],
   "source": [
    "sorted_arr = np.sort(data)\n",
    "print(\"Sorted array:\", sorted_arr)\n",
    "\n",
    "uniq_vals, counts = np.unique([1, 2, 2, 3, 3, 3], return_counts=True)\n",
    "print(\"Unique values:\", uniq_vals)\n",
    "print(\"Counts:\", counts)"
   ]
  }
 ],
 "metadata": {
  "kernelspec": {
   "display_name": "Python 3 (ipykernel)",
   "language": "python",
   "name": "python3"
  },
  "language_info": {
   "codemirror_mode": {
    "name": "ipython",
    "version": 3
   },
   "file_extension": ".py",
   "mimetype": "text/x-python",
   "name": "python",
   "nbconvert_exporter": "python",
   "pygments_lexer": "ipython3",
   "version": "3.13.5"
  }
 },
 "nbformat": 4,
 "nbformat_minor": 5
}
