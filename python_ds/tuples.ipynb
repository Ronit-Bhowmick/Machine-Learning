{
 "cells": [
  {
   "cell_type": "markdown",
   "metadata": {},
   "source": [
    "# Python Tuples - Beginner Friendly Tutorial\n",
    "\n",
    "This notebook introduces **Python tuples** step by step with simple explanations and examples.\n",
    "\n",
    "## Table of Contents\n",
    "1. [What is a Tuple and When to Use It](#what)\n",
    "2. [Creating Tuples](#create)\n",
    "3. [Accessing Elements by Index](#index)\n",
    "4. [Tuple Immutability](#immutability)\n",
    "5. [Tuple Unpacking](#unpack)\n",
    "6. [Concatenating and Repeating Tuples](#concat)\n",
    "7. [Tuple Methods](#methods)\n",
    "8. [Nesting Tuples](#nest)\n",
    "9. [Tuples as Dictionary Keys or in Sets](#dictset)\n",
    "10. [Differences Between Tuples and Lists](#diff)\n",
    "---"
   ]
  },
  {
   "cell_type": "markdown",
   "metadata": {},
   "source": [
    "## 1. What is a Tuple and When to Use It <a name=\"what\"></a>\n",
    "\n",
    "- A **tuple** is an ordered, immutable collection of elements.\n",
    "- Tuples can hold multiple data types (numbers, strings, booleans, etc.).\n",
    "- Use a tuple when you want to store data that should **not change** (e.g., coordinates, configuration values)."
   ]
  },
  {
   "cell_type": "code",
   "execution_count": null,
   "metadata": {},
   "outputs": [],
   "source": [
    "# Example of a tuple\n",
    "fruits = (\"apple\", \"banana\", \"cherry\")\n",
    "print(fruits)  # Output: ('apple', 'banana', 'cherry')"
   ]
  },
  {
   "cell_type": "markdown",
   "metadata": {},
   "source": [
    "## 2. Creating Tuples <a name=\"create\"></a>\n",
    "\n",
    "Ways to create tuples:\n",
    "- Empty tuple\n",
    "- Single-element tuple (needs a comma)\n",
    "- Multiple-element tuple"
   ]
  },
  {
   "cell_type": "code",
   "execution_count": null,
   "metadata": {},
   "outputs": [],
   "source": [
    "# Empty tuple\n",
    "empty_tuple = ()\n",
    "print(empty_tuple)\n",
    "\n",
    "# Single-element tuple (note the comma!)\n",
    "single_tuple = (\"apple\",)\n",
    "print(single_tuple)\n",
    "\n",
    "# Multiple elements\n",
    "numbers = (1, 2, 3, 4)\n",
    "print(numbers)"
   ]
  },
  {
   "cell_type": "markdown",
   "metadata": {},
   "source": [
    "## 3. Accessing Elements by Index <a name=\"index\"></a>\n",
    "\n",
    "- Tuples support indexing like lists.\n",
    "- Indexing starts from `0`.\n",
    "- Negative indexing allows access from the end."
   ]
  },
  {
   "cell_type": "code",
   "execution_count": null,
   "metadata": {},
   "outputs": [],
   "source": [
    "fruits = (\"apple\", \"banana\", \"cherry\")\n",
    "print(fruits[0])   # First element\n",
    "print(fruits[-1])  # Last element"
   ]
  },
  {
   "cell_type": "markdown",
   "metadata": {},
   "source": [
    "## 4. Tuple Immutability <a name=\"immutability\"></a>\n",
    "\n",
    "- Tuples are **immutable**, meaning their elements cannot be changed after creation.\n",
    "- You cannot modify, add, or remove elements directly."
   ]
  },
  {
   "cell_type": "code",
   "execution_count": null,
   "metadata": {},
   "outputs": [],
   "source": [
    "fruits = (\"apple\", \"banana\", \"cherry\")\n",
    "try:\n",
    "    fruits[1] = \"blueberry\"  # This will cause an error\n",
    "except TypeError as e:\n",
    "    print(\"Error:\", e)"
   ]
  },
  {
   "cell_type": "markdown",
   "metadata": {},
   "source": [
    "## 5. Tuple Unpacking <a name=\"unpack\"></a>\n",
    "\n",
    "You can assign tuple elements to multiple variables in one line."
   ]
  },
  {
   "cell_type": "code",
   "execution_count": null,
   "metadata": {},
   "outputs": [],
   "source": [
    "person = (\"Alice\", 25, \"Engineer\")\n",
    "name, age, job = person  # Unpacking\n",
    "print(name)\n",
    "print(age)\n",
    "print(job)"
   ]
  },
  {
   "cell_type": "markdown",
   "metadata": {},
   "source": [
    "## 6. Concatenating and Repeating Tuples <a name=\"concat\"></a>\n",
    "\n",
    "- Use `+` to join tuples.\n",
    "- Use `*` to repeat a tuple multiple times."
   ]
  },
  {
   "cell_type": "code",
   "execution_count": null,
   "metadata": {},
   "outputs": [],
   "source": [
    "tuple1 = (1, 2)\n",
    "tuple2 = (3, 4)\n",
    "print(tuple1 + tuple2)  # Concatenation\n",
    "print(tuple1 * 3)       # Repetition"
   ]
  },
  {
   "cell_type": "markdown",
   "metadata": {},
   "source": [
    "## 7. Tuple Methods <a name=\"methods\"></a>\n",
    "\n",
    "Tuples have limited methods compared to lists:\n",
    "- `count()` - count occurrences of a value\n",
    "- `index()` - find the index of a value"
   ]
  },
  {
   "cell_type": "code",
   "execution_count": null,
   "metadata": {},
   "outputs": [],
   "source": [
    "numbers = (1, 2, 3, 2, 2, 4)\n",
    "print(numbers.count(2))  # Count occurrences of 2\n",
    "print(numbers.index(3))  # Find index of 3"
   ]
  },
  {
   "cell_type": "markdown",
   "metadata": {},
   "source": [
    "## 8. Nesting Tuples <a name=\"nest\"></a>\n",
    "\n",
    "Tuples can contain other tuples, creating a **nested structure**."
   ]
  },
  {
   "cell_type": "code",
   "execution_count": null,
   "metadata": {},
   "outputs": [],
   "source": [
    "nested = ((1, 2), (3, 4), (5, 6))\n",
    "print(nested[0])    # First inner tuple\n",
    "print(nested[1][1]) # Second element of second tuple"
   ]
  },
  {
   "cell_type": "markdown",
   "metadata": {},
   "source": [
    "## 9. Tuples as Dictionary Keys or in Sets <a name=\"dictset\"></a>\n",
    "\n",
    "- Tuples can be used as dictionary keys or added to sets because they are immutable.\n",
    "- Lists cannot be used in these places since they are mutable."
   ]
  },
  {
   "cell_type": "code",
   "execution_count": null,
   "metadata": {},
   "outputs": [],
   "source": [
    "# Using tuple as dictionary key\n",
    "locations = { (10, 20): \"Home\", (30, 40): \"Work\" }\n",
    "print(locations[(10, 20)])\n",
    "\n",
    "# Using tuple in a set\n",
    "unique_points = {(1, 2), (3, 4), (1, 2)}\n",
    "print(unique_points)"
   ]
  },
  {
   "cell_type": "markdown",
   "metadata": {},
   "source": [
    "## 10. Differences Between Tuples and Lists <a name=\"diff\"></a>\n",
    "\n",
    "- **Tuples** are immutable, faster, and can be used as dictionary keys.\n",
    "- **Lists** are mutable, more flexible, and have more built-in methods.\n",
    "- Use **tuples** when you want fixed data, and **lists** when you need to modify data."
   ]
  },
  {
   "cell_type": "code",
   "execution_count": null,
   "metadata": {},
   "outputs": [],
   "source": [
    "example_list = [1, 2, 3]\n",
    "example_tuple = (1, 2, 3)\n",
    "\n",
    "# Lists can be modified\n",
    "example_list.append(4)\n",
    "print(\"List after append:\", example_list)\n",
    "\n",
    "# Tuples cannot be modified\n",
    "try:\n",
    "    example_tuple.append(4)\n",
    "except AttributeError as e:\n",
    "    print(\"Error:\", e)"
   ]
  }
 ],
 "metadata": {
  "kernelspec": {
   "display_name": "Python 3",
   "language": "python",
   "name": "python3"
  },
  "language_info": {
   "name": "python",
   "version": "3.11"
  }
 },
 "nbformat": 4,
 "nbformat_minor": 5
}
