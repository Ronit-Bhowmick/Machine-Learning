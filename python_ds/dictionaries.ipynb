{
 "cells": [
  {
   "cell_type": "markdown",
   "metadata": {},
   "source": [
    "# Python Dictionaries - Beginner Friendly Tutorial\n",
    "\n",
    "This notebook introduces **Python dictionaries** step by step with explanations and examples.\n",
    "\n",
    "## Table of Contents\n",
    "1. [What is a Dictionary and When to Use It](#what)\n",
    "2. [Creating Dictionaries](#create)\n",
    "3. [Accessing Values by Keys](#access)\n",
    "4. [Adding and Updating Key-Value Pairs](#addupdate)\n",
    "5. [Removing Items](#remove)\n",
    "6. [Dictionary Views: Keys, Values, Items](#views)\n",
    "7. [Checking for Key Existence](#exist)\n",
    "8. [Iterating Over Dictionaries](#iterate)\n",
    "9. [Dictionary Comprehensions](#comprehensions)\n",
    "10. [Nested Dictionaries](#nested)\n",
    "11. [Common Dictionary Methods](#methods)\n",
    "12. [Using Immutable Types as Keys](#immutable)\n",
    "13. [Differences Between Dictionaries and Other Data Structures](#diff)\n",
    "---"
   ]
  },
  {
   "cell_type": "markdown",
   "metadata": {},
   "source": [
    "## 1. What is a Dictionary and When to Use It <a name=\"what\"></a>\n",
    "\n",
    "- A **dictionary** is a collection of key-value pairs.\n",
    "- Keys must be **unique** and **immutable** (e.g., strings, numbers, tuples).\n",
    "- Use dictionaries to store data that can be looked up quickly by a key (like a real dictionary)."
   ]
  },
  {
   "cell_type": "code",
   "execution_count": null,
   "metadata": {},
   "outputs": [],
   "source": [
    "# Example of a dictionary\n",
    "person = {\"name\": \"Alice\", \"age\": 25, \"job\": \"Engineer\"}\n",
    "print(person)"
   ]
  },
  {
   "cell_type": "markdown",
   "metadata": {},
   "source": [
    "## 2. Creating Dictionaries <a name=\"create\"></a>\n",
    "\n",
    "Ways to create dictionaries:\n",
    "- Empty dictionary\n",
    "- With initial key-value pairs"
   ]
  },
  {
   "cell_type": "code",
   "execution_count": null,
   "metadata": {},
   "outputs": [],
   "source": [
    "# Empty dictionary\n",
    "empty_dict = {}\n",
    "print(empty_dict)\n",
    "\n",
    "# With key-value pairs\n",
    "student = {\"name\": \"Bob\", \"age\": 20, \"grade\": \"A\"}\n",
    "print(student)"
   ]
  },
  {
   "cell_type": "markdown",
   "metadata": {},
   "source": [
    "## 3. Accessing Values by Keys <a name=\"access\"></a>\n",
    "\n",
    "- Values are accessed using their keys.\n",
    "- Raises an error if the key doesn’t exist (use `get()` to avoid this)."
   ]
  },
  {
   "cell_type": "code",
   "execution_count": null,
   "metadata": {},
   "outputs": [],
   "source": [
    "student = {\"name\": \"Bob\", \"age\": 20}\n",
    "print(student[\"name\"])  # Access value by key\n",
    "\n",
    "# Using get() to safely access keys\n",
    "print(student.get(\"grade\", \"Not Found\"))"
   ]
  },
  {
   "cell_type": "markdown",
   "metadata": {},
   "source": [
    "## 4. Adding and Updating Key-Value Pairs <a name=\"addupdate\"></a>\n",
    "\n",
    "- New pairs can be added using assignment.\n",
    "- Existing pairs can be updated by reassigning the value."
   ]
  },
  {
   "cell_type": "code",
   "execution_count": null,
   "metadata": {},
   "outputs": [],
   "source": [
    "student = {\"name\": \"Bob\", \"age\": 20}\n",
    "student[\"grade\"] = \"A\"       # Add new key-value pair\n",
    "student[\"age\"] = 21          # Update value\n",
    "print(student)"
   ]
  },
  {
   "cell_type": "markdown",
   "metadata": {},
   "source": [
    "## 5. Removing Items <a name=\"remove\"></a>\n",
    "\n",
    "- `del` removes a key-value pair.\n",
    "- `pop(key)` removes and returns the value.\n",
    "- `popitem()` removes and returns the last inserted pair."
   ]
  },
  {
   "cell_type": "code",
   "execution_count": null,
   "metadata": {},
   "outputs": [],
   "source": [
    "student = {\"name\": \"Bob\", \"age\": 21, \"grade\": \"A\"}\n",
    "\n",
    "del student[\"grade\"]          # Remove by key\n",
    "print(student)\n",
    "\n",
    "age = student.pop(\"age\")      # Remove and return value\n",
    "print(\"Removed age:\", age)\n",
    "print(student)\n",
    "\n",
    "pair = student.popitem()      # Remove last inserted item\n",
    "print(\"Removed pair:\", pair)\n",
    "print(student)"
   ]
  },
  {
   "cell_type": "markdown",
   "metadata": {},
   "source": [
    "## 6. Dictionary Views: Keys, Values, Items <a name=\"views\"></a>\n",
    "\n",
    "- `.keys()` returns all keys.\n",
    "- `.values()` returns all values.\n",
    "- `.items()` returns all key-value pairs."
   ]
  },
  {
   "cell_type": "code",
   "execution_count": null,
   "metadata": {},
   "outputs": [],
   "source": [
    "student = {\"name\": \"Bob\", \"age\": 21}\n",
    "print(student.keys())\n",
    "print(student.values())\n",
    "print(student.items())"
   ]
  },
  {
   "cell_type": "markdown",
   "metadata": {},
   "source": [
    "## 7. Checking for Key Existence <a name=\"exist\"></a>\n",
    "\n",
    "- Use the `in` keyword to check if a key exists in a dictionary."
   ]
  },
  {
   "cell_type": "code",
   "execution_count": null,
   "metadata": {},
   "outputs": [],
   "source": [
    "student = {\"name\": \"Bob\", \"age\": 21}\n",
    "print(\"name\" in student)\n",
    "print(\"grade\" in student)"
   ]
  },
  {
   "cell_type": "markdown",
   "metadata": {},
   "source": [
    "## 8. Iterating Over Dictionaries <a name=\"iterate\"></a>\n",
    "\n",
    "- Iterate through keys, values, or key-value pairs."
   ]
  },
  {
   "cell_type": "code",
   "execution_count": null,
   "metadata": {},
   "outputs": [],
   "source": [
    "student = {\"name\": \"Bob\", \"age\": 21, \"grade\": \"A\"}\n",
    "\n",
    "# Iterate over keys\n",
    "for key in student:\n",
    "    print(\"Key:\", key)\n",
    "\n",
    "# Iterate over values\n",
    "for value in student.values():\n",
    "    print(\"Value:\", value)\n",
    "\n",
    "# Iterate over key-value pairs\n",
    "for key, value in student.items():\n",
    "    print(key, \"->\", value)"
   ]
  },
  {
   "cell_type": "markdown",
   "metadata": {},
   "source": [
    "## 9. Dictionary Comprehensions <a name=\"comprehensions\"></a>\n",
    "\n",
    "- A compact way to create dictionaries using loops and conditions."
   ]
  },
  {
   "cell_type": "code",
   "execution_count": null,
   "metadata": {},
   "outputs": [],
   "source": [
    "# Example: Create a dictionary of squares\n",
    "squares = {x: x**2 for x in range(1, 6)}\n",
    "print(squares)"
   ]
  },
  {
   "cell_type": "markdown",
   "metadata": {},
   "source": [
    "## 10. Nested Dictionaries <a name=\"nested\"></a>\n",
    "\n",
    "- Dictionaries can contain other dictionaries, useful for structured data."
   ]
  },
  {
   "cell_type": "code",
   "execution_count": null,
   "metadata": {},
   "outputs": [],
   "source": [
    "students = {\n",
    "    \"Alice\": {\"age\": 25, \"grade\": \"A\"},\n",
    "    \"Bob\": {\"age\": 20, \"grade\": \"B\"}\n",
    "}\n",
    "print(students[\"Alice\"][\"grade\"])"
   ]
  },
  {
   "cell_type": "markdown",
   "metadata": {},
   "source": [
    "## 11. Common Dictionary Methods <a name=\"methods\"></a>\n",
    "\n",
    "- `get(key, default)` → safe access\n",
    "- `setdefault(key, default)` → set if missing\n",
    "- `clear()` → remove all items\n",
    "- `copy()` → shallow copy of dictionary"
   ]
  },
  {
   "cell_type": "code",
   "execution_count": null,
   "metadata": {},
   "outputs": [],
   "source": [
    "student = {\"name\": \"Bob\", \"age\": 21}\n",
    "print(student.get(\"grade\", \"N/A\"))\n",
    "\n",
    "student.setdefault(\"grade\", \"B\")\n",
    "print(student)\n",
    "\n",
    "copy_student = student.copy()\n",
    "print(\"Copied:\", copy_student)\n",
    "\n",
    "student.clear()\n",
    "print(\"After clear:\", student)"
   ]
  },
  {
   "cell_type": "markdown",
   "metadata": {},
   "source": [
    "## 12. Using Immutable Types as Keys <a name=\"immutable\"></a>\n",
    "\n",
    "- Dictionary keys must be immutable.\n",
    "- Allowed: strings, numbers, tuples.\n",
    "- Not allowed: lists, dictionaries, sets."
   ]
  },
  {
   "cell_type": "code",
   "execution_count": null,
   "metadata": {},
   "outputs": [],
   "source": [
    "# Valid keys\n",
    "valid_dict = {(1, 2): \"point\", \"name\": \"Alice\", 42: \"answer\"}\n",
    "print(valid_dict)\n",
    "\n",
    "# Invalid key example (uncommenting will raise an error)\n",
    "# invalid_dict = {[1,2]: \"list key\"}"
   ]
  },
  {
   "cell_type": "markdown",
   "metadata": {},
   "source": [
    "## 13. Differences Between Dictionaries and Other Data Structures <a name=\"diff\"></a>\n",
    "\n",
    "- **Dictionaries** store data as key-value pairs for fast lookup.\n",
    "- **Lists** store ordered items, accessed by index.\n",
    "- **Tuples** are immutable sequences, not key-value.\n",
    "- **Sets** store unique values without keys."
   ]
  },
  {
   "cell_type": "code",
   "execution_count": null,
   "metadata": {},
   "outputs": [],
   "source": [
    "# Dictionary for fast key-based access\n",
    "student = {\"name\": \"Alice\", \"age\": 25}\n",
    "print(student[\"name\"])\n",
    "\n",
    "# List for ordered collection\n",
    "fruits = [\"apple\", \"banana\", \"cherry\"]\n",
    "print(fruits[1])\n",
    "\n",
    "# Tuple for immutable ordered collection\n",
    "point = (10, 20)\n",
    "print(point[0])\n",
    "\n",
    "# Set for unique elements\n",
    "unique_nums = {1, 2, 2, 3}\n",
    "print(unique_nums)"
   ]
  }
 ],
 "metadata": {
  "kernelspec": {
   "display_name": "Python 3",
   "language": "python",
   "name": "python3"
  },
  "language_info": {
   "name": "python",
   "version": "3.11"
  }
 },
 "nbformat": 4,
 "nbformat_minor": 5
}
