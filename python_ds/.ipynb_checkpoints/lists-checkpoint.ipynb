{
 "cells": [
  {
   "cell_type": "markdown",
   "id": "8e305e7a",
   "metadata": {},
   "source": [
    "# Python Lists - Beginner Friendly Tutorial\n",
    "\n",
    "This notebook introduces **Python lists** step by step with clear explanations and examples.\n",
    "\n",
    "## Table of Contents\n",
    "1. [What is a List and When to Use It](#what)\n",
    "2. [Creating Lists](#create)\n",
    "3. [Accessing Elements by Index](#index)\n",
    "4. [Slicing Lists](#slicing)\n",
    "5. [Modifying Lists](#modify)\n",
    "6. [Removing Elements](#remove)\n",
    "7. [List Operations](#operations)\n",
    "8. [Common Methods](#methods)\n",
    "9. [Iterating Over Lists](#iterate)\n",
    "10. [Nested Lists](#nested)\n",
    "11. [List Comprehensions](#comprehensions)\n",
    "---"
   ]
  },
  {
   "cell_type": "markdown",
   "id": "f85a20b6",
   "metadata": {},
   "source": [
    "## 1. What is a List and When to Use It <a name=\"what\"></a>\n",
    "\n",
    "- A **list** is a collection of ordered, mutable (changeable) elements.\n",
    "- Lists can hold different data types (numbers, strings, booleans, even other lists).\n",
    "- Use a list when you want to store multiple values together in a single variable."
   ]
  },
  {
   "cell_type": "code",
   "execution_count": null,
   "id": "a31c74ba",
   "metadata": {},
   "outputs": [],
   "source": [
    "# Example of a list\n",
    "fruits = [\"apple\", \"banana\", \"cherry\"]\n",
    "print(fruits)  # Output: ['apple', 'banana', 'cherry']"
   ]
  },
  {
   "cell_type": "markdown",
   "id": "e66ef02a",
   "metadata": {},
   "source": [
    "## 2. Creating Lists <a name=\"create\"></a>\n",
    "\n",
    "You can create lists in several ways:\n",
    "- Empty list\n",
    "- With values\n",
    "- Using the `list()` constructor"
   ]
  },
  {
   "cell_type": "code",
   "execution_count": null,
   "id": "2f118383",
   "metadata": {},
   "outputs": [],
   "source": [
    "# Empty list\n",
    "empty_list = []\n",
    "print(empty_list)\n",
    "\n",
    "# List with values\n",
    "numbers = [1, 2, 3, 4]\n",
    "print(numbers)\n",
    "\n",
    "# Using list() constructor\n",
    "letters = list(\"hello\")  # Creates a list of characters\n",
    "print(letters)"
   ]
  },
  {
   "cell_type": "markdown",
   "id": "09a69dc0",
   "metadata": {},
   "source": [
    "## 3. Accessing Elements by Index <a name=\"index\"></a>\n",
    "\n",
    "- Indexing starts at `0` for the first element.\n",
    "- Negative indexing allows access from the end (e.g., `-1` is the last element)."
   ]
  },
  {
   "cell_type": "code",
   "execution_count": null,
   "id": "30fa10b0",
   "metadata": {},
   "outputs": [],
   "source": [
    "fruits = [\"apple\", \"banana\", \"cherry\"]\n",
    "print(fruits[0])   # First element\n",
    "print(fruits[-1])  # Last element"
   ]
  },
  {
   "cell_type": "markdown",
   "id": "65bee50b",
   "metadata": {},
   "source": [
    "## 4. Slicing Lists <a name=\"slicing\"></a>\n",
    "\n",
    "You can extract parts of a list using slicing syntax `list[start:end]`.\n",
    "- `start` is inclusive\n",
    "- `end` is exclusive"
   ]
  },
  {
   "cell_type": "code",
   "execution_count": null,
   "id": "722b1820",
   "metadata": {},
   "outputs": [],
   "source": [
    "numbers = [10, 20, 30, 40, 50]\n",
    "print(numbers[1:4])   # Elements from index 1 to 3\n",
    "print(numbers[:3])    # First 3 elements\n",
    "print(numbers[2:])    # From index 2 to end"
   ]
  },
  {
   "cell_type": "markdown",
   "id": "780fb985",
   "metadata": {},
   "source": [
    "## 5. Modifying Lists <a name=\"modify\"></a>\n",
    "\n",
    "Lists are mutable, meaning you can change elements after creation.\n",
    "- Use assignment to change values.\n",
    "- Use `append()` to add at the end.\n",
    "- Use `insert()` to add at a specific index."
   ]
  },
  {
   "cell_type": "code",
   "execution_count": null,
   "id": "c347b2d0",
   "metadata": {},
   "outputs": [],
   "source": [
    "fruits = [\"apple\", \"banana\", \"cherry\"]\n",
    "fruits[1] = \"blueberry\"  # Change element\n",
    "fruits.append(\"orange\")  # Add at the end\n",
    "fruits.insert(1, \"mango\") # Insert at index 1\n",
    "print(fruits)"
   ]
  },
  {
   "cell_type": "markdown",
   "id": "c0349997",
   "metadata": {},
   "source": [
    "## 6. Removing Elements <a name=\"remove\"></a>\n",
    "\n",
    "- `remove()` deletes a specific value.\n",
    "- `pop()` removes by index (or last element if no index given).\n",
    "- `clear()` removes all elements."
   ]
  },
  {
   "cell_type": "code",
   "execution_count": null,
   "id": "e700a0bc",
   "metadata": {},
   "outputs": [],
   "source": [
    "fruits = [\"apple\", \"banana\", \"cherry\", \"banana\"]\n",
    "fruits.remove(\"banana\")  # Removes first occurrence\n",
    "print(fruits)\n",
    "\n",
    "fruits.pop(1)  # Removes element at index 1\n",
    "print(fruits)\n",
    "\n",
    "fruits.clear() # Removes all elements\n",
    "print(fruits)"
   ]
  },
  {
   "cell_type": "markdown",
   "id": "3dfb9633",
   "metadata": {},
   "source": [
    "## 7. List Operations <a name=\"operations\"></a>\n",
    "\n",
    "- Use `+` to concatenate lists.\n",
    "- Use `*` to repeat a list."
   ]
  },
  {
   "cell_type": "code",
   "execution_count": null,
   "id": "708758d3",
   "metadata": {},
   "outputs": [],
   "source": [
    "list1 = [1, 2]\n",
    "list2 = [3, 4]\n",
    "print(list1 + list2)  # Concatenation\n",
    "print(list1 * 3)      # Repetition"
   ]
  },
  {
   "cell_type": "markdown",
   "id": "900315be",
   "metadata": {},
   "source": [
    "## 8. Common Methods <a name=\"methods\"></a>\n",
    "\n",
    "Some useful list methods include:\n",
    "- `sort()` - sort the list\n",
    "- `reverse()` - reverse the list\n",
    "- `count()` - count occurrences of an element\n",
    "- `index()` - find the index of an element"
   ]
  },
  {
   "cell_type": "code",
   "execution_count": null,
   "id": "00ebdfc7",
   "metadata": {},
   "outputs": [],
   "source": [
    "numbers = [5, 2, 9, 1, 5]\n",
    "numbers.sort()  # Sort ascending\n",
    "print(numbers)\n",
    "\n",
    "numbers.reverse()  # Reverse order\n",
    "print(numbers)\n",
    "\n",
    "print(numbers.count(5))  # Count occurrences of 5\n",
    "print(numbers.index(9))  # Find index of 9"
   ]
  },
  {
   "cell_type": "markdown",
   "id": "226897dc",
   "metadata": {},
   "source": [
    "## 9. Iterating Over Lists <a name=\"iterate\"></a>\n",
    "\n",
    "You can loop through a list using `for` loops."
   ]
  },
  {
   "cell_type": "code",
   "execution_count": null,
   "id": "42a1267b",
   "metadata": {},
   "outputs": [],
   "source": [
    "fruits = [\"apple\", \"banana\", \"cherry\"]\n",
    "for fruit in fruits:\n",
    "    print(fruit)"
   ]
  },
  {
   "cell_type": "markdown",
   "id": "a6a7d898",
   "metadata": {},
   "source": [
    "## 10. Nested Lists <a name=\"nested\"></a>\n",
    "\n",
    "Lists can contain other lists, creating a **2D structure**."
   ]
  },
  {
   "cell_type": "code",
   "execution_count": null,
   "id": "854aec03",
   "metadata": {},
   "outputs": [],
   "source": [
    "matrix = [[1, 2, 3], [4, 5, 6], [7, 8, 9]]\n",
    "print(matrix[0])    # First row\n",
    "print(matrix[1][2]) # Element from 2nd row, 3rd column"
   ]
  },
  {
   "cell_type": "markdown",
   "id": "ae51012f",
   "metadata": {},
   "source": [
    "## 11. List Comprehensions <a name=\"comprehensions\"></a>\n",
    "\n",
    "List comprehensions provide a concise way to create lists.\n",
    "- Basic: `[expression for item in list]`\n",
    "- With condition: `[expression for item in list if condition]`"
   ]
  },
  {
   "cell_type": "code",
   "execution_count": null,
   "id": "a083a5db",
   "metadata": {},
   "outputs": [],
   "source": [
    "# Create a list of squares\n",
    "squares = [x**2 for x in range(5)]\n",
    "print(squares)\n",
    "\n",
    "# Create a list of even numbers\n",
    "evens = [x for x in range(10) if x % 2 == 0]\n",
    "print(evens)"
   ]
  }
 ],
 "metadata": {
  "kernelspec": {
   "display_name": "Python 3 (ipykernel)",
   "language": "python",
   "name": "python3"
  },
  "language_info": {
   "codemirror_mode": {
    "name": "ipython",
    "version": 3
   },
   "file_extension": ".py",
   "mimetype": "text/x-python",
   "name": "python",
   "nbconvert_exporter": "python",
   "pygments_lexer": "ipython3",
   "version": "3.13.5"
  }
 },
 "nbformat": 4,
 "nbformat_minor": 5
}
